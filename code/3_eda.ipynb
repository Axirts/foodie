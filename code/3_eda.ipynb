{
 "cells": [
  {
   "cell_type": "markdown",
   "metadata": {},
   "source": [
    "## EDA"
   ]
  },
  {
   "cell_type": "code",
   "execution_count": 24,
   "metadata": {},
   "outputs": [],
   "source": [
    "import pandas as pd\n",
    "import numpy as np\n",
    "import matplotlib.pyplot as plt\n",
    "import seaborn as sns\n",
    "import itertools"
   ]
  },
  {
   "cell_type": "code",
   "execution_count": 25,
   "metadata": {},
   "outputs": [
    {
     "data": {
      "text/html": [
       "<div>\n",
       "<style scoped>\n",
       "    .dataframe tbody tr th:only-of-type {\n",
       "        vertical-align: middle;\n",
       "    }\n",
       "\n",
       "    .dataframe tbody tr th {\n",
       "        vertical-align: top;\n",
       "    }\n",
       "\n",
       "    .dataframe thead th {\n",
       "        text-align: right;\n",
       "    }\n",
       "</style>\n",
       "<table border=\"1\" class=\"dataframe\">\n",
       "  <thead>\n",
       "    <tr style=\"text-align: right;\">\n",
       "      <th></th>\n",
       "      <th>vegetarian</th>\n",
       "      <th>vegan</th>\n",
       "      <th>glutenFree</th>\n",
       "      <th>dairyFree</th>\n",
       "      <th>veryHealthy</th>\n",
       "      <th>cheap</th>\n",
       "      <th>sustainable</th>\n",
       "      <th>lowFodmap</th>\n",
       "      <th>title</th>\n",
       "      <th>readyInMinutes</th>\n",
       "      <th>summary</th>\n",
       "      <th>cuisines</th>\n",
       "      <th>dishTypes</th>\n",
       "      <th>occasions</th>\n",
       "      <th>instructions</th>\n",
       "      <th>simplifiedIngredients</th>\n",
       "      <th>simplifiedInstructions</th>\n",
       "    </tr>\n",
       "  </thead>\n",
       "  <tbody>\n",
       "    <tr>\n",
       "      <th>0</th>\n",
       "      <td>1</td>\n",
       "      <td>0</td>\n",
       "      <td>0</td>\n",
       "      <td>0</td>\n",
       "      <td>0</td>\n",
       "      <td>0</td>\n",
       "      <td>0</td>\n",
       "      <td>0</td>\n",
       "      <td>Baby Chick Cupcakes</td>\n",
       "      <td>45</td>\n",
       "      <td>The recipe Baby Chick Cupcakes is ready &lt;b&gt;in ...</td>\n",
       "      <td>['American']</td>\n",
       "      <td>['dessert']</td>\n",
       "      <td>[]</td>\n",
       "      <td>Heat oven to 180 C.  Put paper cases in 24 muf...</td>\n",
       "      <td>['wheat flour', 'sugar', 'butter', 'milk', 'lo...</td>\n",
       "      <td>['Heat oven to 180 C.  Put paper cases in 24 m...</td>\n",
       "    </tr>\n",
       "    <tr>\n",
       "      <th>1</th>\n",
       "      <td>0</td>\n",
       "      <td>0</td>\n",
       "      <td>0</td>\n",
       "      <td>0</td>\n",
       "      <td>0</td>\n",
       "      <td>0</td>\n",
       "      <td>0</td>\n",
       "      <td>0</td>\n",
       "      <td>Neiman Marcus Oatmeal Chocolate Chip Cookies</td>\n",
       "      <td>45</td>\n",
       "      <td>Neiman Marcus Oatmeal Chocolate Chip Cookies m...</td>\n",
       "      <td>[]</td>\n",
       "      <td>['dessert']</td>\n",
       "      <td>[]</td>\n",
       "      <td>Preheat oven to 375 degrees F.\\nIn a large bow...</td>\n",
       "      <td>['butter', 'sugar', 'golden brown sugar', 'egg...</td>\n",
       "      <td>['Preheat oven to 375 degrees F.', 'In a large...</td>\n",
       "    </tr>\n",
       "    <tr>\n",
       "      <th>2</th>\n",
       "      <td>1</td>\n",
       "      <td>0</td>\n",
       "      <td>0</td>\n",
       "      <td>0</td>\n",
       "      <td>0</td>\n",
       "      <td>0</td>\n",
       "      <td>0</td>\n",
       "      <td>0</td>\n",
       "      <td>Strawberry Tart</td>\n",
       "      <td>45</td>\n",
       "      <td>Strawberry Tart takes about &lt;b&gt;approximately 4...</td>\n",
       "      <td>[]</td>\n",
       "      <td>['dessert']</td>\n",
       "      <td>[\"mother's day\"]</td>\n",
       "      <td>Preheat oven to 350 degrees F.\\nSift flour ont...</td>\n",
       "      <td>['wheat flour', 'unsalted butter', 'water', 'e...</td>\n",
       "      <td>['Preheat oven to 350 degrees F.', 'Sift flour...</td>\n",
       "    </tr>\n",
       "  </tbody>\n",
       "</table>\n",
       "</div>"
      ],
      "text/plain": [
       "   vegetarian  vegan  glutenFree  dairyFree  veryHealthy  cheap  sustainable  \\\n",
       "0           1      0           0          0            0      0            0   \n",
       "1           0      0           0          0            0      0            0   \n",
       "2           1      0           0          0            0      0            0   \n",
       "\n",
       "   lowFodmap                                         title  readyInMinutes  \\\n",
       "0          0                           Baby Chick Cupcakes              45   \n",
       "1          0  Neiman Marcus Oatmeal Chocolate Chip Cookies              45   \n",
       "2          0                               Strawberry Tart              45   \n",
       "\n",
       "                                             summary      cuisines  \\\n",
       "0  The recipe Baby Chick Cupcakes is ready <b>in ...  ['American']   \n",
       "1  Neiman Marcus Oatmeal Chocolate Chip Cookies m...            []   \n",
       "2  Strawberry Tart takes about <b>approximately 4...            []   \n",
       "\n",
       "     dishTypes         occasions  \\\n",
       "0  ['dessert']                []   \n",
       "1  ['dessert']                []   \n",
       "2  ['dessert']  [\"mother's day\"]   \n",
       "\n",
       "                                        instructions  \\\n",
       "0  Heat oven to 180 C.  Put paper cases in 24 muf...   \n",
       "1  Preheat oven to 375 degrees F.\\nIn a large bow...   \n",
       "2  Preheat oven to 350 degrees F.\\nSift flour ont...   \n",
       "\n",
       "                               simplifiedIngredients  \\\n",
       "0  ['wheat flour', 'sugar', 'butter', 'milk', 'lo...   \n",
       "1  ['butter', 'sugar', 'golden brown sugar', 'egg...   \n",
       "2  ['wheat flour', 'unsalted butter', 'water', 'e...   \n",
       "\n",
       "                              simplifiedInstructions  \n",
       "0  ['Heat oven to 180 C.  Put paper cases in 24 m...  \n",
       "1  ['Preheat oven to 375 degrees F.', 'In a large...  \n",
       "2  ['Preheat oven to 350 degrees F.', 'Sift flour...  "
      ]
     },
     "execution_count": 25,
     "metadata": {},
     "output_type": "execute_result"
    }
   ],
   "source": [
    "df = pd.read_csv('../data/recipes.csv').drop(columns=['Unnamed: 0'])\n",
    "df.head(3)"
   ]
  },
  {
   "cell_type": "code",
   "execution_count": 26,
   "metadata": {},
   "outputs": [
    {
     "data": {
      "text/plain": [
       "array([\"['dessert']\",\n",
       "       \"['morning meal', 'dessert', 'brunch', 'breakfast']\",\n",
       "       \"['lunch', 'main course', 'main dish', 'dinner']\", \"['side dish']\",\n",
       "       \"['side dish', 'lunch', 'main course', 'main dish', 'dinner']\",\n",
       "       '[]', \"['bread']\",\n",
       "       '[\\'antipasti\\', \\'starter\\', \\'snack\\', \\'appetizer\\', \\'antipasto\\', \"hor d\\'oeuvre\"]',\n",
       "       \"['soup']\", \"['morning meal', 'brunch', 'breakfast']\",\n",
       "       \"['lunch', 'main course', 'morning meal', 'brunch', 'main dish', 'breakfast', 'dinner']\",\n",
       "       '[\\'side dish\\', \\'antipasti\\', \\'salad\\', \\'starter\\', \\'snack\\', \\'appetizer\\', \\'antipasto\\', \"hor d\\'oeuvre\"]',\n",
       "       \"['side dish', 'salad']\", \"['condiment', 'dip', 'spread']\",\n",
       "       \"['beverage', 'drink']\", \"['salad']\",\n",
       "       \"['side dish', 'lunch', 'main course', 'salad', 'main dish', 'dinner']\",\n",
       "       \"['sauce']\",\n",
       "       '[\\'fingerfood\\', \\'antipasti\\', \\'lunch\\', \\'main course\\', \\'starter\\', \\'snack\\', \\'appetizer\\', \\'main dish\\', \\'antipasto\\', \"hor d\\'oeuvre\", \\'dinner\\']',\n",
       "       \"['lunch', 'soup', 'main course', 'main dish', 'dinner']\",\n",
       "       '[\\'antipasti\\', \\'condiment\\', \\'starter\\', \\'snack\\', \\'appetizer\\', \\'dip\\', \\'antipasto\\', \"hor d\\'oeuvre\", \\'spread\\']',\n",
       "       '[\\'antipasti\\', \\'lunch\\', \\'main course\\', \\'starter\\', \\'snack\\', \\'appetizer\\', \\'main dish\\', \\'antipasto\\', \"hor d\\'oeuvre\", \\'dinner\\']',\n",
       "       \"['seasoning', 'marinade']\",\n",
       "       \"['condiment', 'dip', 'sauce', 'spread']\",\n",
       "       '[\\'fingerfood\\', \\'antipasti\\', \\'starter\\', \\'snack\\', \\'appetizer\\', \\'antipasto\\', \"hor d\\'oeuvre\"]',\n",
       "       \"['morning meal', 'brunch', 'beverage', 'breakfast', 'drink']\",\n",
       "       '[\\'fingerfood\\', \\'antipasti\\', \\'bread\\', \\'starter\\', \\'snack\\', \\'appetizer\\', \\'antipasto\\', \"hor d\\'oeuvre\"]'],\n",
       "      dtype=object)"
      ]
     },
     "execution_count": 26,
     "metadata": {},
     "output_type": "execute_result"
    }
   ],
   "source": [
    "df.dishTypes.unique()"
   ]
  },
  {
   "cell_type": "code",
   "execution_count": 12,
   "metadata": {},
   "outputs": [
    {
     "name": "stdout",
     "output_type": "stream",
     "text": [
      "<itertools.chain object at 0x000001729CC122B0>\n"
     ]
    }
   ],
   "source": [
    "print(itertools.chain.from_iterable(df.cuisines.unique()))"
   ]
  },
  {
   "cell_type": "code",
   "execution_count": null,
   "metadata": {},
   "outputs": [],
   "source": []
  }
 ],
 "metadata": {
  "kernelspec": {
   "display_name": "Python 3",
   "language": "python",
   "name": "python3"
  },
  "language_info": {
   "codemirror_mode": {
    "name": "ipython",
    "version": 3
   },
   "file_extension": ".py",
   "mimetype": "text/x-python",
   "name": "python",
   "nbconvert_exporter": "python",
   "pygments_lexer": "ipython3",
   "version": "3.8.10"
  }
 },
 "nbformat": 4,
 "nbformat_minor": 4
}
