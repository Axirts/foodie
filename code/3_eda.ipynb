{
 "cells": [
  {
   "cell_type": "markdown",
   "metadata": {},
   "source": [
    "## EDA"
   ]
  },
  {
   "cell_type": "code",
   "execution_count": 1,
   "metadata": {},
   "outputs": [],
   "source": [
    "import pandas as pd\n",
    "import numpy as np\n",
    "import matplotlib.pyplot as plt\n",
    "import seaborn as sns\n",
    "import itertools"
   ]
  },
  {
   "cell_type": "code",
   "execution_count": 2,
   "metadata": {},
   "outputs": [
    {
     "name": "stdout",
     "output_type": "stream",
     "text": [
      "(761, 17)\n"
     ]
    },
    {
     "data": {
      "text/html": [
       "<div>\n",
       "<style scoped>\n",
       "    .dataframe tbody tr th:only-of-type {\n",
       "        vertical-align: middle;\n",
       "    }\n",
       "\n",
       "    .dataframe tbody tr th {\n",
       "        vertical-align: top;\n",
       "    }\n",
       "\n",
       "    .dataframe thead th {\n",
       "        text-align: right;\n",
       "    }\n",
       "</style>\n",
       "<table border=\"1\" class=\"dataframe\">\n",
       "  <thead>\n",
       "    <tr style=\"text-align: right;\">\n",
       "      <th></th>\n",
       "      <th>vegetarian</th>\n",
       "      <th>vegan</th>\n",
       "      <th>glutenFree</th>\n",
       "      <th>dairyFree</th>\n",
       "      <th>veryHealthy</th>\n",
       "      <th>cheap</th>\n",
       "      <th>sustainable</th>\n",
       "      <th>lowFodmap</th>\n",
       "      <th>title</th>\n",
       "      <th>readyInMinutes</th>\n",
       "      <th>summary</th>\n",
       "      <th>cuisines</th>\n",
       "      <th>dishTypes</th>\n",
       "      <th>occasions</th>\n",
       "      <th>instructions</th>\n",
       "      <th>simplifiedIngredients</th>\n",
       "      <th>simplifiedInstructions</th>\n",
       "    </tr>\n",
       "  </thead>\n",
       "  <tbody>\n",
       "    <tr>\n",
       "      <th>0</th>\n",
       "      <td>1</td>\n",
       "      <td>0</td>\n",
       "      <td>0</td>\n",
       "      <td>0</td>\n",
       "      <td>0</td>\n",
       "      <td>0</td>\n",
       "      <td>0</td>\n",
       "      <td>0</td>\n",
       "      <td>Gingerbread Mummies</td>\n",
       "      <td>45</td>\n",
       "      <td>Gingerbread Mummies might be just the dessert ...</td>\n",
       "      <td>[]</td>\n",
       "      <td>['dessert']</td>\n",
       "      <td>['christmas']</td>\n",
       "      <td>In a bowl of an electric mixer, beat the butte...</td>\n",
       "      <td>['unsalted butter', 'wheat flour', 'sugar', 'm...</td>\n",
       "      <td>['In a bowl of an electric mixer, beat the but...</td>\n",
       "    </tr>\n",
       "    <tr>\n",
       "      <th>1</th>\n",
       "      <td>0</td>\n",
       "      <td>0</td>\n",
       "      <td>0</td>\n",
       "      <td>0</td>\n",
       "      <td>0</td>\n",
       "      <td>0</td>\n",
       "      <td>0</td>\n",
       "      <td>0</td>\n",
       "      <td>Neiman Marcus Oatmeal Chocolate Chip Cookies</td>\n",
       "      <td>45</td>\n",
       "      <td>Neiman Marcus Oatmeal Chocolate Chip Cookies m...</td>\n",
       "      <td>[]</td>\n",
       "      <td>['dessert']</td>\n",
       "      <td>[]</td>\n",
       "      <td>Preheat oven to 375 degrees F.\\nIn a large bow...</td>\n",
       "      <td>['butter', 'sugar', 'golden brown sugar', 'egg...</td>\n",
       "      <td>['Preheat oven to 375 degrees F.', 'In a large...</td>\n",
       "    </tr>\n",
       "    <tr>\n",
       "      <th>2</th>\n",
       "      <td>1</td>\n",
       "      <td>0</td>\n",
       "      <td>0</td>\n",
       "      <td>0</td>\n",
       "      <td>0</td>\n",
       "      <td>0</td>\n",
       "      <td>0</td>\n",
       "      <td>0</td>\n",
       "      <td>Strawberry Tart</td>\n",
       "      <td>45</td>\n",
       "      <td>Strawberry Tart takes about &lt;b&gt;approximately 4...</td>\n",
       "      <td>[]</td>\n",
       "      <td>['dessert']</td>\n",
       "      <td>[\"mother's day\"]</td>\n",
       "      <td>Preheat oven to 350 degrees F.\\nSift flour ont...</td>\n",
       "      <td>['wheat flour', 'unsalted butter', 'water', 'e...</td>\n",
       "      <td>['Preheat oven to 350 degrees F.', 'Sift flour...</td>\n",
       "    </tr>\n",
       "  </tbody>\n",
       "</table>\n",
       "</div>"
      ],
      "text/plain": [
       "   vegetarian  vegan  glutenFree  dairyFree  veryHealthy  cheap  sustainable  \\\n",
       "0           1      0           0          0            0      0            0   \n",
       "1           0      0           0          0            0      0            0   \n",
       "2           1      0           0          0            0      0            0   \n",
       "\n",
       "   lowFodmap                                         title  readyInMinutes  \\\n",
       "0          0                           Gingerbread Mummies              45   \n",
       "1          0  Neiman Marcus Oatmeal Chocolate Chip Cookies              45   \n",
       "2          0                               Strawberry Tart              45   \n",
       "\n",
       "                                             summary cuisines    dishTypes  \\\n",
       "0  Gingerbread Mummies might be just the dessert ...       []  ['dessert']   \n",
       "1  Neiman Marcus Oatmeal Chocolate Chip Cookies m...       []  ['dessert']   \n",
       "2  Strawberry Tart takes about <b>approximately 4...       []  ['dessert']   \n",
       "\n",
       "          occasions                                       instructions  \\\n",
       "0     ['christmas']  In a bowl of an electric mixer, beat the butte...   \n",
       "1                []  Preheat oven to 375 degrees F.\\nIn a large bow...   \n",
       "2  [\"mother's day\"]  Preheat oven to 350 degrees F.\\nSift flour ont...   \n",
       "\n",
       "                               simplifiedIngredients  \\\n",
       "0  ['unsalted butter', 'wheat flour', 'sugar', 'm...   \n",
       "1  ['butter', 'sugar', 'golden brown sugar', 'egg...   \n",
       "2  ['wheat flour', 'unsalted butter', 'water', 'e...   \n",
       "\n",
       "                              simplifiedInstructions  \n",
       "0  ['In a bowl of an electric mixer, beat the but...  \n",
       "1  ['Preheat oven to 375 degrees F.', 'In a large...  \n",
       "2  ['Preheat oven to 350 degrees F.', 'Sift flour...  "
      ]
     },
     "execution_count": 2,
     "metadata": {},
     "output_type": "execute_result"
    }
   ],
   "source": [
    "df = pd.read_csv('../data/recipes.csv').drop(columns=['Unnamed: 0'])\n",
    "print(df.shape)\n",
    "df.head(3)"
   ]
  },
  {
   "cell_type": "code",
   "execution_count": 3,
   "metadata": {},
   "outputs": [
    {
     "data": {
      "text/plain": [
       "['lunch', 'main course', 'main dish', 'dinner']                                                                                             217\n",
       "['side dish']                                                                                                                               203\n",
       "[]                                                                                                                                           68\n",
       "['antipasti', 'starter', 'snack', 'appetizer', 'antipasto', \"hor d'oeuvre\"]                                                                  59\n",
       "['dessert']                                                                                                                                  50\n",
       "['morning meal', 'brunch', 'breakfast']                                                                                                      25\n",
       "['soup']                                                                                                                                     24\n",
       "['salad']                                                                                                                                    16\n",
       "['side dish', 'lunch', 'main course', 'main dish', 'dinner']                                                                                 15\n",
       "['lunch', 'soup', 'main course', 'main dish', 'dinner']                                                                                      14\n",
       "['condiment', 'dip', 'spread']                                                                                                               12\n",
       "['beverage', 'drink']                                                                                                                         9\n",
       "['bread']                                                                                                                                     8\n",
       "['side dish', 'lunch', 'main course', 'salad', 'main dish', 'dinner']                                                                         8\n",
       "['sauce']                                                                                                                                     5\n",
       "['condiment', 'dip', 'sauce', 'spread']                                                                                                       4\n",
       "['morning meal', 'dessert', 'brunch', 'breakfast']                                                                                            4\n",
       "['side dish', 'salad']                                                                                                                        4\n",
       "['antipasti', 'condiment', 'starter', 'snack', 'appetizer', 'dip', 'antipasto', \"hor d'oeuvre\", 'spread']                                     3\n",
       "['lunch', 'main course', 'morning meal', 'brunch', 'main dish', 'breakfast', 'dinner']                                                        3\n",
       "['fingerfood', 'antipasti', 'starter', 'snack', 'appetizer', 'antipasto', \"hor d'oeuvre\"]                                                     2\n",
       "['morning meal', 'brunch', 'beverage', 'breakfast', 'drink']                                                                                  2\n",
       "['antipasti', 'lunch', 'main course', 'starter', 'snack', 'appetizer', 'main dish', 'antipasto', \"hor d'oeuvre\", 'dinner']                    2\n",
       "['fingerfood', 'antipasti', 'bread', 'starter', 'snack', 'appetizer', 'antipasto', \"hor d'oeuvre\"]                                            1\n",
       "['seasoning', 'marinade']                                                                                                                     1\n",
       "['side dish', 'antipasti', 'salad', 'starter', 'snack', 'appetizer', 'antipasto', \"hor d'oeuvre\"]                                             1\n",
       "['fingerfood', 'antipasti', 'lunch', 'main course', 'starter', 'snack', 'appetizer', 'main dish', 'antipasto', \"hor d'oeuvre\", 'dinner']      1\n",
       "Name: dishTypes, dtype: int64"
      ]
     },
     "execution_count": 3,
     "metadata": {},
     "output_type": "execute_result"
    }
   ],
   "source": [
    "df['dishTypes'].value_counts()\n",
    "# df.dishTypes[150:200]"
   ]
  },
  {
   "cell_type": "code",
   "execution_count": null,
   "metadata": {},
   "outputs": [],
   "source": []
  },
  {
   "cell_type": "code",
   "execution_count": 4,
   "metadata": {},
   "outputs": [
    {
     "data": {
      "text/plain": [
       "\"['lunch', 'main course', 'main dish', 'dinner']\""
      ]
     },
     "execution_count": 4,
     "metadata": {},
     "output_type": "execute_result"
    }
   ],
   "source": [
    "test_str1 = df['dishTypes'].iloc[300]\n",
    "test_str1"
   ]
  },
  {
   "cell_type": "code",
   "execution_count": 5,
   "metadata": {},
   "outputs": [
    {
     "data": {
      "text/plain": [
       "\"['condiment', 'dip', 'sauce', 'spread']\""
      ]
     },
     "execution_count": 5,
     "metadata": {},
     "output_type": "execute_result"
    }
   ],
   "source": [
    "test_str2 = df['dishTypes'].iloc[500]\n",
    "test_str2"
   ]
  },
  {
   "cell_type": "code",
   "execution_count": 10,
   "metadata": {},
   "outputs": [
    {
     "data": {
      "text/plain": [
       "[]                                                539\n",
       "['American']                                       52\n",
       "['Mediterranean', 'Italian', 'European']           36\n",
       "['Mexican']                                        32\n",
       "['Southern']                                       21\n",
       "['Chinese', 'Asian']                               14\n",
       "['Mediterranean', 'French', 'European']            13\n",
       "['Indian', 'Asian']                                10\n",
       "['Mediterranean', 'European', 'Greek']              6\n",
       "['Asian']                                           4\n",
       "['German', 'European']                              3\n",
       "['Middle Eastern']                                  3\n",
       "['Vietnamese', 'Asian']                             3\n",
       "['Spanish', 'European']                             3\n",
       "['Cajun', 'Creole']                                 3\n",
       "['English', 'Scottish', 'British', 'European']      3\n",
       "['Eastern European', 'European']                    2\n",
       "['Korean', 'Asian']                                 2\n",
       "['European', 'Irish']                               2\n",
       "['South American', 'Latin American']                2\n",
       "['Thai', 'Asian']                                   2\n",
       "['African']                                         2\n",
       "['Creole', 'Cajun']                                 2\n",
       "['Japanese', 'Asian']                               1\n",
       "['Jewish']                                          1\n",
       "Name: cuisines, dtype: int64"
      ]
     },
     "execution_count": 10,
     "metadata": {},
     "output_type": "execute_result"
    }
   ],
   "source": [
    "df['cuisines'].value_counts()"
   ]
  },
  {
   "cell_type": "code",
   "execution_count": 11,
   "metadata": {},
   "outputs": [],
   "source": [
    "simplifiedCuisine = {\n",
    "    '[]',\n",
    "    \"['Mexican']\",\n",
    "    \"['Mediterranean', 'Italian', 'European']\",\n",
    "    \"['American']\", \"['German', 'European']\",\n",
    "    \"['Mediterranean', 'French', 'European']\",\n",
    "    \"['Creole', 'Cajun']\",\n",
    "    \"['Southern']\",\n",
    "    \"['Chinese', 'Asian']\",\n",
    "    \"['Asian']\",\n",
    "    \"['English', 'Scottish', 'British', 'European']\",\n",
    "    \"['Mediterranean', 'European', 'Greek']\",\n",
    "    \"['Indian', 'Asian']\",\n",
    "    \"['African']\",\n",
    "    \"['Korean', 'Asian']\",\n",
    "    \"['Vietnamese', 'Asian']\",\n",
    "    \"['Spanish', 'European']\",\n",
    "    \"['Middle Eastern']\",\n",
    "    \"['Eastern European', 'European']\",\n",
    "    \"['European', 'Irish']\",\n",
    "    \"['Cajun', 'Creole']\",\n",
    "    \"['South American', 'Latin American']\",\n",
    "    \"['Thai', 'Asian']\",\n",
    "    \"['Jewish']\",\n",
    "    \"['Japanese', 'Asian']\"\n",
    "}"
   ]
  },
  {
   "cell_type": "code",
   "execution_count": null,
   "metadata": {},
   "outputs": [],
   "source": [
    "df.fillna()"
   ]
  }
 ],
 "metadata": {
  "kernelspec": {
   "display_name": "Python 3",
   "language": "python",
   "name": "python3"
  },
  "language_info": {
   "codemirror_mode": {
    "name": "ipython",
    "version": 3
   },
   "file_extension": ".py",
   "mimetype": "text/x-python",
   "name": "python",
   "nbconvert_exporter": "python",
   "pygments_lexer": "ipython3",
   "version": "3.8.5"
  }
 },
 "nbformat": 4,
 "nbformat_minor": 4
}
