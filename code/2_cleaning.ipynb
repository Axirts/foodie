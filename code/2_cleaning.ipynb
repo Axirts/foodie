{
 "cells": [
  {
   "cell_type": "markdown",
   "metadata": {},
   "source": [
    "## Cleaning"
   ]
  },
  {
   "cell_type": "code",
   "execution_count": 38,
   "metadata": {},
   "outputs": [],
   "source": [
    "import json\n",
    "import os\n",
    "import pandas as pd\n",
    "import numpy as np\n",
    "import re\n",
    "\n",
    "from sklearn.feature_extraction.text import CountVectorizer"
   ]
  },
  {
   "cell_type": "markdown",
   "metadata": {},
   "source": [
    "---\n",
    "### Load in all the recipes"
   ]
  },
  {
   "cell_type": "code",
   "execution_count": 37,
   "metadata": {},
   "outputs": [
    {
     "data": {
      "text/plain": [
       "['001.json',\n",
       " '002.json',\n",
       " '004.json',\n",
       " '005.json',\n",
       " '006.json',\n",
       " '007.json',\n",
       " '008.json',\n",
       " '009.json',\n",
       " '010.json',\n",
       " '011.json',\n",
       " '012.json',\n",
       " '013.json',\n",
       " '014.json',\n",
       " '015.json',\n",
       " '016.json',\n",
       " '017.json']"
      ]
     },
     "execution_count": 37,
     "metadata": {},
     "output_type": "execute_result"
    }
   ],
   "source": [
    "# verifies the folder\n",
    "os.listdir('../data/api_data/')"
   ]
  },
  {
   "cell_type": "code",
   "execution_count": 3,
   "metadata": {},
   "outputs": [],
   "source": [
    "# load in all json as dataframes\n",
    "list_of_dfs = []\n",
    "for file in os.listdir('../data/api_data/')[1:]:\n",
    "    with open(f'../data/api_data/{file}') as f:\n",
    "        list_of_dfs.append(pd.DataFrame(json.load(f)['recipes']))"
   ]
  },
  {
   "cell_type": "markdown",
   "metadata": {},
   "source": [
    "---\n",
    "### Merge all the dataframes into one, dropping duplicates"
   ]
  },
  {
   "cell_type": "code",
   "execution_count": 5,
   "metadata": {},
   "outputs": [],
   "source": [
    "master_df = list_of_dfs[0]\n",
    "\n",
    "for dframe in list_of_dfs[1:]:\n",
    "    master_df = master_df.append(dframe)"
   ]
  },
  {
   "cell_type": "code",
   "execution_count": 6,
   "metadata": {},
   "outputs": [],
   "source": [
    "# random recipes were acquired using the api\n",
    "# drop duplicates\n",
    "master_df = master_df.drop_duplicates(subset=['id'])"
   ]
  },
  {
   "cell_type": "code",
   "execution_count": 7,
   "metadata": {},
   "outputs": [
    {
     "data": {
      "text/plain": [
       "(761, 38)"
      ]
     },
     "execution_count": 7,
     "metadata": {},
     "output_type": "execute_result"
    }
   ],
   "source": [
    "master_df.shape"
   ]
  },
  {
   "cell_type": "markdown",
   "metadata": {},
   "source": [
    "---\n",
    "### Clean up json format columns"
   ]
  },
  {
   "cell_type": "code",
   "execution_count": 8,
   "metadata": {},
   "outputs": [],
   "source": [
    "json_columns = [\n",
    "    'extendedIngredients',\n",
    "    'analyzedInstructions'\n",
    "]"
   ]
  },
  {
   "cell_type": "markdown",
   "metadata": {},
   "source": [
    "Simplified list of ingredients"
   ]
  },
  {
   "cell_type": "code",
   "execution_count": 9,
   "metadata": {},
   "outputs": [],
   "source": [
    "master_df['simplifiedIngredients'] = [[ing for ing in pd.DataFrame(cell)['nameClean']] for cell in master_df['extendedIngredients']]"
   ]
  },
  {
   "cell_type": "markdown",
   "metadata": {},
   "source": [
    "Simplified list of instructions"
   ]
  },
  {
   "cell_type": "code",
   "execution_count": 10,
   "metadata": {},
   "outputs": [],
   "source": [
    "# needed a function to pull all the steps from each component of the recipe\n",
    "def make_list(df_row):\n",
    "    list_of_steps = []\n",
    "    for a in range(len(df_row)):\n",
    "        for b in range(len(df_row[a]['steps'])):\n",
    "            list_of_steps.append(df_row[a]['steps'][b]['step'])\n",
    "    return list_of_steps"
   ]
  },
  {
   "cell_type": "code",
   "execution_count": 11,
   "metadata": {},
   "outputs": [],
   "source": [
    "master_df['simplifiedInstructions'] = [make_list(row) for row in master_df['analyzedInstructions']]"
   ]
  },
  {
   "cell_type": "code",
   "execution_count": 12,
   "metadata": {},
   "outputs": [],
   "source": [
    "# # example of needing to go multiple layers down, get the steps, then switch higher up to a separate component of the meal to get its steps\n",
    "# for a in range(len(master_df['analyzedInstructions'].iloc[0])):\n",
    "#     for b in range(len(master_df['analyzedInstructions'].iloc[0][a]['steps'])):\n",
    "#         print(master_df['analyzedInstructions'].iloc[0][a]['steps'][b]['step'])"
   ]
  },
  {
   "cell_type": "markdown",
   "metadata": {},
   "source": [
    "---\n",
    "### A bit of feature selection to make the dataframe a bit smaller"
   ]
  },
  {
   "cell_type": "code",
   "execution_count": 13,
   "metadata": {},
   "outputs": [
    {
     "data": {
      "text/plain": [
       "Index(['vegetarian', 'vegan', 'glutenFree', 'dairyFree', 'veryHealthy',\n",
       "       'cheap', 'veryPopular', 'sustainable', 'weightWatcherSmartPoints',\n",
       "       'gaps', 'lowFodmap', 'aggregateLikes', 'spoonacularScore',\n",
       "       'healthScore', 'creditsText', 'license', 'sourceName',\n",
       "       'pricePerServing', 'extendedIngredients', 'id', 'title',\n",
       "       'readyInMinutes', 'servings', 'sourceUrl', 'image', 'imageType',\n",
       "       'summary', 'cuisines', 'dishTypes', 'diets', 'occasions',\n",
       "       'instructions', 'analyzedInstructions', 'originalId',\n",
       "       'spoonacularSourceUrl', 'preparationMinutes', 'cookingMinutes',\n",
       "       'author', 'simplifiedIngredients', 'simplifiedInstructions'],\n",
       "      dtype='object')"
      ]
     },
     "execution_count": 13,
     "metadata": {},
     "output_type": "execute_result"
    }
   ],
   "source": [
    "master_df.columns"
   ]
  },
  {
   "cell_type": "code",
   "execution_count": 14,
   "metadata": {},
   "outputs": [],
   "source": [
    "# While some models may drop further features, these are the ones I don't plan on using at all\n",
    "features_to_drop = [\n",
    "    'weightWatcherSmartPoints',\n",
    "    'gaps',\n",
    "    'veryPopular',\n",
    "    'aggregateLikes',\n",
    "    'spoonacularScore',\n",
    "    'healthScore',\n",
    "    'creditsText',\n",
    "    'license',\n",
    "    'sourceName',\n",
    "    'pricePerServing',\n",
    "    'id',\n",
    "    'servings',\n",
    "    'sourceUrl',\n",
    "    'image',\n",
    "    'imageType',\n",
    "    'diets',\n",
    "    'originalId',\n",
    "    'spoonacularSourceUrl',\n",
    "    'cookingMinutes',\n",
    "    'preparationMinutes',\n",
    "    'author',\n",
    "    'extendedIngredients',\n",
    "    'analyzedInstructions'\n",
    "]"
   ]
  },
  {
   "cell_type": "code",
   "execution_count": 15,
   "metadata": {},
   "outputs": [],
   "source": [
    "# drop the features\n",
    "master_df = master_df.drop(columns=features_to_drop)"
   ]
  },
  {
   "cell_type": "code",
   "execution_count": 16,
   "metadata": {},
   "outputs": [
    {
     "data": {
      "text/plain": [
       "vegetarian               0\n",
       "readyInMinutes           0\n",
       "simplifiedIngredients    0\n",
       "dtype: int64"
      ]
     },
     "execution_count": 16,
     "metadata": {},
     "output_type": "execute_result"
    }
   ],
   "source": [
    "# dropping the columns had the added benefit of clearing all of the missing values\n",
    "# one thing to note however is that some of the columns have an empty list instead of nan\n",
    "# those were not removed\n",
    "master_df.isnull().sum().sort_values(ascending=False)[:3]"
   ]
  },
  {
   "cell_type": "markdown",
   "metadata": {},
   "source": [
    "---\n",
    "### Convert booleans to numerics"
   ]
  },
  {
   "cell_type": "code",
   "execution_count": 17,
   "metadata": {},
   "outputs": [],
   "source": [
    "boolean_columns = [\n",
    "    'vegetarian',\n",
    "    'vegan',\n",
    "    'glutenFree',\n",
    "    'dairyFree',\n",
    "    'veryHealthy',\n",
    "    'cheap',\n",
    "    'sustainable',\n",
    "    'lowFodmap'\n",
    "]"
   ]
  },
  {
   "cell_type": "code",
   "execution_count": 18,
   "metadata": {},
   "outputs": [],
   "source": [
    "for column in boolean_columns:\n",
    "    master_df[column] = [1 if val is True else 0 for val in master_df[column]]"
   ]
  },
  {
   "cell_type": "markdown",
   "metadata": {},
   "source": [
    "---\n",
    "## TODO: Dummify dishType\n",
    "so it doesn't break when exported as a csv and reimported elsewhere"
   ]
  },
  {
   "cell_type": "code",
   "execution_count": 24,
   "metadata": {},
   "outputs": [
    {
     "data": {
      "text/plain": [
       "'lunch'"
      ]
     },
     "execution_count": 24,
     "metadata": {},
     "output_type": "execute_result"
    }
   ],
   "source": [
    "master_df['dishTypes'].iloc[400][0]"
   ]
  },
  {
   "cell_type": "code",
   "execution_count": 63,
   "metadata": {
    "tags": []
   },
   "outputs": [
    {
     "name": "stdout",
     "output_type": "stream",
     "text": [
      "<class 'list'>\n"
     ]
    },
    {
     "data": {
      "text/plain": [
       "['lunch', 'main course', 'main dish', 'dinner']"
      ]
     },
     "execution_count": 63,
     "metadata": {},
     "output_type": "execute_result"
    }
   ],
   "source": [
    "# example of the original\n",
    "print(type(master_df['dishTypes'].iloc[400]))\n",
    "master_df['dishTypes'].iloc[400]"
   ]
  },
  {
   "cell_type": "markdown",
   "metadata": {},
   "source": [
    "---\n",
    "## Simplify the cuisines column"
   ]
  },
  {
   "cell_type": "code",
   "execution_count": 51,
   "metadata": {},
   "outputs": [],
   "source": [
    "simplifiedCuisine = {\n",
    "    '[]': '',\n",
    "    \"['Mexican']\": 'Mexican',\n",
    "    \"['Mediterranean', 'Italian', 'European']\": 'Mediterranean',\n",
    "    \"['American']\": 'American',\n",
    "    \"['German', 'European']\": 'German',\n",
    "    \"['Mediterranean', 'French', 'European']\": 'French',\n",
    "    \"['Creole', 'Cajun']\": 'Cajun',\n",
    "    \"['Southern']\": 'American',\n",
    "    \"['Chinese', 'Asian']\": 'Chinese',\n",
    "    \"['Asian']\": 'Asian',\n",
    "    \"['English', 'Scottish', 'British', 'European']\": 'British',\n",
    "    \"['Mediterranean', 'European', 'Greek']\": '',\n",
    "    \"['Indian', 'Asian']\": 'Indian',\n",
    "    \"['African']\": 'African',\n",
    "    \"['Korean', 'Asian']\": 'Korean',\n",
    "    \"['Vietnamese', 'Asian']\": 'Vietnamese',\n",
    "    \"['Spanish', 'European']\": 'Spanish',\n",
    "    \"['Middle Eastern']\": 'Middle Eastern',\n",
    "    \"['Eastern European', 'European']\": 'Eastern European',\n",
    "    \"['European', 'Irish']\": 'Irish',\n",
    "    \"['Cajun', 'Creole']\": 'Cajun',\n",
    "    \"['South American', 'Latin American']\": 'South American',\n",
    "    \"['Thai', 'Asian']\": 'Thai',\n",
    "    \"['Jewish']\": 'Middle Eastern',\n",
    "    \"['Japanese', 'Asian']\": 'Japanese'\n",
    "}"
   ]
  },
  {
   "cell_type": "code",
   "execution_count": 52,
   "metadata": {},
   "outputs": [],
   "source": [
    "master_df['cuisines'] = [str(val) for val in master_df['cuisines']]\n",
    "master_df['cuisines'] = master_df['cuisines'].map(simplifiedCuisine)"
   ]
  },
  {
   "cell_type": "markdown",
   "metadata": {},
   "source": [
    "---\n",
    "## Convert the ingredients from list to string form"
   ]
  },
  {
   "cell_type": "code",
   "execution_count": 71,
   "metadata": {},
   "outputs": [
    {
     "data": {
      "text/plain": [
       "0     [wheat flour, sugar, butter, milk, low sodium ...\n",
       "1     [butter, sugar, golden brown sugar, egg, vanil...\n",
       "2     [wheat flour, unsalted butter, water, egg yolk...\n",
       "3     [wheat flour, almond meal, turbinado sugar, ba...\n",
       "4     [butter, powdered sugar, vanilla extract, whea...\n",
       "                            ...                        \n",
       "84    [semisweet chocolate, butter, cream of tartar,...\n",
       "89    [95 percent lean ground beef, yellow onion, ce...\n",
       "90    [boneless skinless chicken breast, ham, chedda...\n",
       "95    [dried chickpeas, garlic, lemon juice, olive o...\n",
       "96             [cream, dulce de leche, sugar, egg yolk]\n",
       "Name: simplifiedIngredients, Length: 761, dtype: object"
      ]
     },
     "execution_count": 71,
     "metadata": {},
     "output_type": "execute_result"
    }
   ],
   "source": [
    "master_df['simplifiedIngredients']"
   ]
  },
  {
   "cell_type": "code",
   "execution_count": null,
   "metadata": {},
   "outputs": [],
   "source": [
    "[str]"
   ]
  },
  {
   "cell_type": "markdown",
   "metadata": {},
   "source": [
    "---\n",
    "### Save as a csv"
   ]
  },
  {
   "cell_type": "code",
   "execution_count": null,
   "metadata": {},
   "outputs": [],
   "source": [
    "master_df.to_csv('../data/recipes.csv')"
   ]
  }
 ],
 "metadata": {
  "kernelspec": {
   "display_name": "Python 3",
   "language": "python",
   "name": "python3"
  },
  "language_info": {
   "codemirror_mode": {
    "name": "ipython",
    "version": 3
   },
   "file_extension": ".py",
   "mimetype": "text/x-python",
   "name": "python",
   "nbconvert_exporter": "python",
   "pygments_lexer": "ipython3",
   "version": "3.8.5"
  }
 },
 "nbformat": 4,
 "nbformat_minor": 5
}
