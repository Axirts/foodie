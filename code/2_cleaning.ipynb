{
 "cells": [
  {
   "cell_type": "markdown",
   "id": "9bb4feac",
   "metadata": {},
   "source": [
    "## Cleaning"
   ]
  },
  {
   "cell_type": "code",
   "execution_count": 1,
   "id": "0d8134fa",
   "metadata": {},
   "outputs": [],
   "source": [
    "import json\n",
    "import os\n",
    "import pandas as pd\n",
    "import numpy as np\n",
    "import re"
   ]
  },
  {
   "cell_type": "markdown",
   "id": "90650fe2",
   "metadata": {},
   "source": [
    "---\n",
    "### Load in all the recipes"
   ]
  },
  {
   "cell_type": "code",
   "execution_count": 2,
   "id": "09cd9ca0",
   "metadata": {},
   "outputs": [
    {
     "data": {
      "text/plain": [
       "['002.json',\n",
       " '004.json',\n",
       " '005.json',\n",
       " '006.json',\n",
       " '007.json',\n",
       " '008.json',\n",
       " '009.json',\n",
       " '010.json',\n",
       " '011.json',\n",
       " '012.json',\n",
       " '013.json']"
      ]
     },
     "execution_count": 2,
     "metadata": {},
     "output_type": "execute_result"
    }
   ],
   "source": [
    "# verify the folder, remove the checkpoints file\n",
    "os.listdir('../data/api_data/')[1:]"
   ]
  },
  {
   "cell_type": "code",
   "execution_count": 3,
   "id": "e26feb08",
   "metadata": {},
   "outputs": [],
   "source": [
    "# load in all json as dataframes\n",
    "list_of_dfs = []\n",
    "for file in os.listdir('../data/api_data/')[1:]:\n",
    "    with open(f'../data/api_data/{file}') as f:\n",
    "        list_of_dfs.append(pd.DataFrame(json.load(f)['recipes']))"
   ]
  },
  {
   "cell_type": "code",
   "execution_count": 4,
   "id": "6867f37d",
   "metadata": {},
   "outputs": [
    {
     "name": "stdout",
     "output_type": "stream",
     "text": [
      "(50, 37)\n",
      "(100, 37)\n",
      "(100, 37)\n",
      "(100, 37)\n",
      "(100, 37)\n",
      "(100, 38)\n",
      "(100, 37)\n",
      "(100, 38)\n",
      "(100, 37)\n",
      "(100, 37)\n",
      "(100, 37)\n"
     ]
    }
   ],
   "source": [
    "for dframe in list_of_dfs:\n",
    "    print(dframe.shape)"
   ]
  },
  {
   "cell_type": "markdown",
   "id": "d6c45295",
   "metadata": {},
   "source": [
    "---\n",
    "### Merge all the dataframes into one, dropping duplicates"
   ]
  },
  {
   "cell_type": "code",
   "execution_count": 5,
   "id": "9fa38039",
   "metadata": {},
   "outputs": [],
   "source": [
    "master_df = list_of_dfs[0]\n",
    "\n",
    "for dframe in list_of_dfs[1:]:\n",
    "    master_df = master_df.append(dframe)"
   ]
  },
  {
   "cell_type": "code",
   "execution_count": 6,
   "id": "eabeaafe",
   "metadata": {},
   "outputs": [],
   "source": [
    "# random recipes were acquired using the api\n",
    "# drop duplicates\n",
    "master_df = master_df.drop_duplicates(subset=['id'])"
   ]
  },
  {
   "cell_type": "code",
   "execution_count": 7,
   "id": "1adf4303",
   "metadata": {},
   "outputs": [
    {
     "data": {
      "text/plain": [
       "(665, 38)"
      ]
     },
     "execution_count": 7,
     "metadata": {},
     "output_type": "execute_result"
    }
   ],
   "source": [
    "master_df.shape"
   ]
  },
  {
   "cell_type": "markdown",
   "id": "72ba0b09-3249-47e1-af28-e989e80be6cd",
   "metadata": {},
   "source": [
    "---\n",
    "### Clean up json format columns"
   ]
  },
  {
   "cell_type": "code",
   "execution_count": 8,
   "id": "0cd0efe2-1c3c-4125-9636-470a0d167b62",
   "metadata": {},
   "outputs": [],
   "source": [
    "json_columns = [\n",
    "    'extendedIngredients',\n",
    "    'analyzedInstructions'\n",
    "]"
   ]
  },
  {
   "cell_type": "markdown",
   "id": "2c180888-a0f3-425a-a357-0e913cc3a925",
   "metadata": {},
   "source": [
    "Simplified list of ingredients"
   ]
  },
  {
   "cell_type": "code",
   "execution_count": 9,
   "id": "cde373ac-aca9-49b4-8b74-1c49109ba9e9",
   "metadata": {},
   "outputs": [],
   "source": [
    "master_df['simplifiedIngredients'] = [[ing for ing in pd.DataFrame(cell)['nameClean']] for cell in master_df['extendedIngredients']]"
   ]
  },
  {
   "cell_type": "markdown",
   "id": "dbdb7459-4950-4c0c-aee9-9fd8693914f9",
   "metadata": {},
   "source": [
    "Simplified list of instructions"
   ]
  },
  {
   "cell_type": "code",
   "execution_count": 10,
   "id": "ceb7d77e-fe51-4682-818c-cef10d5bdbad",
   "metadata": {},
   "outputs": [],
   "source": [
    "# needed a function to pull all the steps from each component of the recipe\n",
    "def make_list(df_row):\n",
    "    list_of_steps = []\n",
    "    for a in range(len(df_row)):\n",
    "        for b in range(len(df_row[a]['steps'])):\n",
    "            list_of_steps.append(df_row[a]['steps'][b]['step'])\n",
    "    return list_of_steps"
   ]
  },
  {
   "cell_type": "code",
   "execution_count": 11,
   "id": "57fb9afe-55b5-4547-aec2-3747e353c23e",
   "metadata": {},
   "outputs": [],
   "source": [
    "master_df['simplifiedInstructions'] = [make_list(row) for row in master_df['analyzedInstructions']]"
   ]
  },
  {
   "cell_type": "code",
   "execution_count": 12,
   "id": "b8314470-ea89-43d9-a720-3521c2e8cdfa",
   "metadata": {},
   "outputs": [],
   "source": [
    "# # example of needing to go multiple layers down, get the steps, then switch higher up to a separate component of the meal to get its steps\n",
    "# for a in range(len(master_df['analyzedInstructions'].iloc[0])):\n",
    "#     for b in range(len(master_df['analyzedInstructions'].iloc[0][a]['steps'])):\n",
    "#         print(master_df['analyzedInstructions'].iloc[0][a]['steps'][b]['step'])"
   ]
  },
  {
   "cell_type": "markdown",
   "id": "bf89fbc0",
   "metadata": {},
   "source": [
    "---\n",
    "### A bit of feature selection to make the dataframe a bit smaller"
   ]
  },
  {
   "cell_type": "code",
   "execution_count": 13,
   "id": "4fb0c8ab",
   "metadata": {},
   "outputs": [
    {
     "data": {
      "text/plain": [
       "Index(['vegetarian', 'vegan', 'glutenFree', 'dairyFree', 'veryHealthy',\n",
       "       'cheap', 'veryPopular', 'sustainable', 'weightWatcherSmartPoints',\n",
       "       'gaps', 'lowFodmap', 'aggregateLikes', 'spoonacularScore',\n",
       "       'healthScore', 'creditsText', 'license', 'sourceName',\n",
       "       'pricePerServing', 'extendedIngredients', 'id', 'title',\n",
       "       'readyInMinutes', 'servings', 'sourceUrl', 'image', 'imageType',\n",
       "       'summary', 'cuisines', 'dishTypes', 'diets', 'occasions',\n",
       "       'instructions', 'analyzedInstructions', 'originalId',\n",
       "       'spoonacularSourceUrl', 'preparationMinutes', 'cookingMinutes',\n",
       "       'author', 'simplifiedIngredients', 'simplifiedInstructions'],\n",
       "      dtype='object')"
      ]
     },
     "execution_count": 13,
     "metadata": {},
     "output_type": "execute_result"
    }
   ],
   "source": [
    "master_df.columns"
   ]
  },
  {
   "cell_type": "code",
   "execution_count": 14,
   "id": "6c55bcfb",
   "metadata": {},
   "outputs": [],
   "source": [
    "# While some models may drop further features, these are the ones I don't plan on using at all\n",
    "features_to_drop = [\n",
    "    'weightWatcherSmartPoints',\n",
    "    'gaps',\n",
    "    'veryPopular',\n",
    "    'aggregateLikes',\n",
    "    'spoonacularScore',\n",
    "    'healthScore',\n",
    "    'creditsText',\n",
    "    'license',\n",
    "    'sourceName',\n",
    "    'pricePerServing',\n",
    "    'id',\n",
    "    'servings',\n",
    "    'sourceUrl',\n",
    "    'image',\n",
    "    'imageType',\n",
    "    'diets',\n",
    "    'originalId',\n",
    "    'spoonacularSourceUrl',\n",
    "    'cookingMinutes',\n",
    "    'preparationMinutes',\n",
    "    'author',\n",
    "    'extendedIngredients',\n",
    "    'analyzedInstructions'\n",
    "]"
   ]
  },
  {
   "cell_type": "code",
   "execution_count": 15,
   "id": "02595c5e",
   "metadata": {},
   "outputs": [],
   "source": [
    "# drop the features\n",
    "master_df = master_df.drop(columns=features_to_drop)"
   ]
  },
  {
   "cell_type": "code",
   "execution_count": 16,
   "id": "3a0d8c1b",
   "metadata": {},
   "outputs": [
    {
     "data": {
      "text/plain": [
       "vegetarian               0\n",
       "readyInMinutes           0\n",
       "simplifiedIngredients    0\n",
       "dtype: int64"
      ]
     },
     "execution_count": 16,
     "metadata": {},
     "output_type": "execute_result"
    }
   ],
   "source": [
    "# dropping the columns had the added benefit of clearing all of the missing values\n",
    "# one thing to note however is that some of the columns have an empty list instead of nan\n",
    "# those were not removed\n",
    "master_df.isnull().sum().sort_values(ascending=False)[:3]"
   ]
  },
  {
   "cell_type": "markdown",
   "id": "b191577a-afea-41be-8c02-00f9dfb69650",
   "metadata": {},
   "source": [
    "---\n",
    "### Convert booleans to numerics"
   ]
  },
  {
   "cell_type": "code",
   "execution_count": 17,
   "id": "1129732e-17ef-410b-a4fd-996025e4b679",
   "metadata": {},
   "outputs": [],
   "source": [
    "boolean_columns = [\n",
    "    'vegetarian',\n",
    "    'vegan',\n",
    "    'glutenFree',\n",
    "    'dairyFree',\n",
    "    'veryHealthy',\n",
    "    'cheap',\n",
    "    'sustainable',\n",
    "    'lowFodmap'\n",
    "]"
   ]
  },
  {
   "cell_type": "code",
   "execution_count": 18,
   "id": "c31be767-bbb1-4057-9062-5ef89a4bebef",
   "metadata": {},
   "outputs": [],
   "source": [
    "for column in boolean_columns:\n",
    "    master_df[column] = [1 if val is True else 0 for val in master_df[column]]"
   ]
  },
  {
   "cell_type": "markdown",
   "id": "46d5ceb7-8a99-4a7d-95c3-227606028513",
   "metadata": {},
   "source": [
    "---\n",
    "### Save as a csv"
   ]
  },
  {
   "cell_type": "code",
   "execution_count": 19,
   "id": "312bc9dc",
   "metadata": {},
   "outputs": [],
   "source": [
    "master_df.to_csv('../data/recipes.csv')"
   ]
  }
 ],
 "metadata": {
  "kernelspec": {
   "display_name": "Python 3",
   "language": "python",
   "name": "python3"
  },
  "language_info": {
   "codemirror_mode": {
    "name": "ipython",
    "version": 3
   },
   "file_extension": ".py",
   "mimetype": "text/x-python",
   "name": "python",
   "nbconvert_exporter": "python",
   "pygments_lexer": "ipython3",
   "version": "3.8.10"
  }
 },
 "nbformat": 4,
 "nbformat_minor": 5
}
