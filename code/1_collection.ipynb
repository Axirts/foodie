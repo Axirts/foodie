{
 "cells": [
  {
   "cell_type": "markdown",
   "id": "6b39ba46",
   "metadata": {},
   "source": [
    "## Using the Spoonacular API through rapidapi to gather random recipe data "
   ]
  },
  {
   "cell_type": "code",
   "execution_count": 1,
   "id": "541d7b2c",
   "metadata": {},
   "outputs": [],
   "source": [
    "import requests\n",
    "import json\n",
    "import os"
   ]
  },
  {
   "cell_type": "code",
   "execution_count": 2,
   "id": "24accc96",
   "metadata": {},
   "outputs": [],
   "source": [
    "api_key = \"75791d1213msh141b4116de88e2fp11abe7jsn18de53e5244b\""
   ]
  },
  {
   "cell_type": "code",
   "execution_count": 3,
   "id": "1e60cc64",
   "metadata": {},
   "outputs": [],
   "source": [
    "# function to call each day\n",
    "# spoonacular provides 500 points free per day callable 100 at a time\n",
    "# times = number of times to make the call\n",
    "# num = points to call each time\n",
    "\n",
    "def spoonacular_random(times=4, num=100):\n",
    "    url = \"https://spoonacular-recipe-food-nutrition-v1.p.rapidapi.com/recipes/random\"\n",
    "    querystring = {\"number\":\"100\"}\n",
    "    headers = {\n",
    "        'x-rapidapi-key': api_key,\n",
    "        'x-rapidapi-host': \"spoonacular-recipe-food-nutrition-v1.p.rapidapi.com\"\n",
    "        }\n",
    "    start = int(os.listdir('../data/api_data/')[-1][0:3]) + 1\n",
    "    \n",
    "    for c in range(times): \n",
    "        response = requests.request(\"GET\", url, headers=headers, params=querystring)\n",
    "        data = response.json()\n",
    "        current_iter = str(start + c).zfill(3)\n",
    "        with open(f'../data/api_data/{current_iter}.json', 'w') as f:\n",
    "            json.dump(data, f)"
   ]
  },
  {
   "cell_type": "code",
   "execution_count": 4,
   "id": "5ca294e6",
   "metadata": {},
   "outputs": [],
   "source": [
    "spoonacular_random()"
   ]
  },
  {
   "cell_type": "markdown",
   "id": "a2e11600",
   "metadata": {},
   "source": [
    "---\n",
    "### Manual calling\n",
    "Commented out so running the entire notebook doesn't incur charges"
   ]
  },
  {
   "cell_type": "code",
   "execution_count": 5,
   "id": "f80e2ce9",
   "metadata": {},
   "outputs": [],
   "source": [
    "# # using pregenerated api call posted on rapidapi.com\n",
    "# url = \"https://spoonacular-recipe-food-nutrition-v1.p.rapidapi.com/recipes/random\"\n",
    "\n",
    "# querystring = {\"number\":\"100\"}\n",
    "\n",
    "# headers = {\n",
    "#     'x-rapidapi-key': api_key,\n",
    "#     'x-rapidapi-host': \"spoonacular-recipe-food-nutrition-v1.p.rapidapi.com\"\n",
    "#     }"
   ]
  },
  {
   "cell_type": "code",
   "execution_count": 6,
   "id": "e66461d0",
   "metadata": {},
   "outputs": [],
   "source": [
    "# # the call\n",
    "# response = requests.request(\"GET\", url, headers=headers, params=querystring)\n",
    "# # the response\n",
    "# response\n",
    "# data = response.json()"
   ]
  },
  {
   "cell_type": "code",
   "execution_count": 7,
   "id": "51456ec6",
   "metadata": {},
   "outputs": [],
   "source": [
    "# # save each\n",
    "# current_iter = '13'\n",
    "\n",
    "# with open(f'../data/api_data/{current_iter}.json', 'w') as f:\n",
    "#     json.dump(data, f)"
   ]
  }
 ],
 "metadata": {
  "kernelspec": {
   "display_name": "Python 3",
   "language": "python",
   "name": "python3"
  },
  "language_info": {
   "codemirror_mode": {
    "name": "ipython",
    "version": 3
   },
   "file_extension": ".py",
   "mimetype": "text/x-python",
   "name": "python",
   "nbconvert_exporter": "python",
   "pygments_lexer": "ipython3",
   "version": "3.8.10"
  }
 },
 "nbformat": 4,
 "nbformat_minor": 5
}
