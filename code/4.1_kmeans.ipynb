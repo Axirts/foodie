{
 "cells": [
  {
   "cell_type": "markdown",
   "metadata": {},
   "source": [
    "## KMeans classification"
   ]
  },
  {
   "cell_type": "code",
   "execution_count": 1,
   "metadata": {},
   "outputs": [],
   "source": [
    "import pandas as pd\n",
    "import numpy as np\n",
    "import matplotlib.pyplot as plt\n",
    "import seaborn as sns\n",
    "\n",
    "from sklearn.model_selection import train_test_split\n",
    "from sklearn.feature_extraction.text import CountVectorizer\n",
    "\n",
    "from sklearn.cluster import KMeans\n",
    "from sklearn.metrics import silhouette_score"
   ]
  },
  {
   "cell_type": "code",
   "execution_count": 58,
   "metadata": {},
   "outputs": [
    {
     "name": "stdout",
     "output_type": "stream",
     "text": [
      "(761, 17)\n"
     ]
    },
    {
     "data": {
      "text/html": [
       "<div>\n",
       "<style scoped>\n",
       "    .dataframe tbody tr th:only-of-type {\n",
       "        vertical-align: middle;\n",
       "    }\n",
       "\n",
       "    .dataframe tbody tr th {\n",
       "        vertical-align: top;\n",
       "    }\n",
       "\n",
       "    .dataframe thead th {\n",
       "        text-align: right;\n",
       "    }\n",
       "</style>\n",
       "<table border=\"1\" class=\"dataframe\">\n",
       "  <thead>\n",
       "    <tr style=\"text-align: right;\">\n",
       "      <th></th>\n",
       "      <th>vegetarian</th>\n",
       "      <th>vegan</th>\n",
       "      <th>glutenFree</th>\n",
       "      <th>dairyFree</th>\n",
       "      <th>veryHealthy</th>\n",
       "      <th>cheap</th>\n",
       "      <th>sustainable</th>\n",
       "      <th>lowFodmap</th>\n",
       "      <th>title</th>\n",
       "      <th>readyInMinutes</th>\n",
       "      <th>summary</th>\n",
       "      <th>cuisines</th>\n",
       "      <th>dishTypes</th>\n",
       "      <th>occasions</th>\n",
       "      <th>instructions</th>\n",
       "      <th>simplifiedIngredients</th>\n",
       "      <th>simplifiedInstructions</th>\n",
       "      <th>count</th>\n",
       "    </tr>\n",
       "  </thead>\n",
       "  <tbody>\n",
       "    <tr>\n",
       "      <th>0</th>\n",
       "      <td>1</td>\n",
       "      <td>0</td>\n",
       "      <td>0</td>\n",
       "      <td>0</td>\n",
       "      <td>0</td>\n",
       "      <td>0</td>\n",
       "      <td>0</td>\n",
       "      <td>0</td>\n",
       "      <td>Gingerbread Mummies</td>\n",
       "      <td>45</td>\n",
       "      <td>Gingerbread Mummies might be just the dessert ...</td>\n",
       "      <td>[]</td>\n",
       "      <td>['dessert']</td>\n",
       "      <td>['christmas']</td>\n",
       "      <td>In a bowl of an electric mixer, beat the butte...</td>\n",
       "      <td>['unsalted butter', 'wheat flour', 'sugar', 'm...</td>\n",
       "      <td>['In a bowl of an electric mixer, beat the but...</td>\n",
       "      <td>1</td>\n",
       "    </tr>\n",
       "    <tr>\n",
       "      <th>1</th>\n",
       "      <td>0</td>\n",
       "      <td>0</td>\n",
       "      <td>0</td>\n",
       "      <td>0</td>\n",
       "      <td>0</td>\n",
       "      <td>0</td>\n",
       "      <td>0</td>\n",
       "      <td>0</td>\n",
       "      <td>Neiman Marcus Oatmeal Chocolate Chip Cookies</td>\n",
       "      <td>45</td>\n",
       "      <td>Neiman Marcus Oatmeal Chocolate Chip Cookies m...</td>\n",
       "      <td>[]</td>\n",
       "      <td>['dessert']</td>\n",
       "      <td>[]</td>\n",
       "      <td>Preheat oven to 375 degrees F.\\nIn a large bow...</td>\n",
       "      <td>['butter', 'sugar', 'golden brown sugar', 'egg...</td>\n",
       "      <td>['Preheat oven to 375 degrees F.', 'In a large...</td>\n",
       "      <td>1</td>\n",
       "    </tr>\n",
       "    <tr>\n",
       "      <th>2</th>\n",
       "      <td>1</td>\n",
       "      <td>0</td>\n",
       "      <td>0</td>\n",
       "      <td>0</td>\n",
       "      <td>0</td>\n",
       "      <td>0</td>\n",
       "      <td>0</td>\n",
       "      <td>0</td>\n",
       "      <td>Strawberry Tart</td>\n",
       "      <td>45</td>\n",
       "      <td>Strawberry Tart takes about &lt;b&gt;approximately 4...</td>\n",
       "      <td>[]</td>\n",
       "      <td>['dessert']</td>\n",
       "      <td>[\"mother's day\"]</td>\n",
       "      <td>Preheat oven to 350 degrees F.\\nSift flour ont...</td>\n",
       "      <td>['wheat flour', 'unsalted butter', 'water', 'e...</td>\n",
       "      <td>['Preheat oven to 350 degrees F.', 'Sift flour...</td>\n",
       "      <td>1</td>\n",
       "    </tr>\n",
       "  </tbody>\n",
       "</table>\n",
       "</div>"
      ],
      "text/plain": [
       "   vegetarian  vegan  glutenFree  dairyFree  veryHealthy  cheap  sustainable  \\\n",
       "0           1      0           0          0            0      0            0   \n",
       "1           0      0           0          0            0      0            0   \n",
       "2           1      0           0          0            0      0            0   \n",
       "\n",
       "   lowFodmap                                         title  readyInMinutes  \\\n",
       "0          0                           Gingerbread Mummies              45   \n",
       "1          0  Neiman Marcus Oatmeal Chocolate Chip Cookies              45   \n",
       "2          0                               Strawberry Tart              45   \n",
       "\n",
       "                                             summary cuisines    dishTypes  \\\n",
       "0  Gingerbread Mummies might be just the dessert ...       []  ['dessert']   \n",
       "1  Neiman Marcus Oatmeal Chocolate Chip Cookies m...       []  ['dessert']   \n",
       "2  Strawberry Tart takes about <b>approximately 4...       []  ['dessert']   \n",
       "\n",
       "          occasions                                       instructions  \\\n",
       "0     ['christmas']  In a bowl of an electric mixer, beat the butte...   \n",
       "1                []  Preheat oven to 375 degrees F.\\nIn a large bow...   \n",
       "2  [\"mother's day\"]  Preheat oven to 350 degrees F.\\nSift flour ont...   \n",
       "\n",
       "                               simplifiedIngredients  \\\n",
       "0  ['unsalted butter', 'wheat flour', 'sugar', 'm...   \n",
       "1  ['butter', 'sugar', 'golden brown sugar', 'egg...   \n",
       "2  ['wheat flour', 'unsalted butter', 'water', 'e...   \n",
       "\n",
       "                              simplifiedInstructions  count  \n",
       "0  ['In a bowl of an electric mixer, beat the but...      1  \n",
       "1  ['Preheat oven to 375 degrees F.', 'In a large...      1  \n",
       "2  ['Preheat oven to 350 degrees F.', 'Sift flour...      1  "
      ]
     },
     "execution_count": 58,
     "metadata": {},
     "output_type": "execute_result"
    }
   ],
   "source": [
    "df = pd.read_csv('../data/recipes.csv').drop(columns=['Unnamed: 0'])\n",
    "print(df.shape)\n",
    "df['count'] = 1\n",
    "df.head(3)"
   ]
  },
  {
   "cell_type": "code",
   "execution_count": 3,
   "metadata": {},
   "outputs": [],
   "source": [
    "to_drop = [\n",
    "    'cuisines', \n",
    "    'occasions',\n",
    "    'simplifiedIngredients',\n",
    "    'simplifiedInstructions'\n",
    "]"
   ]
  },
  {
   "cell_type": "code",
   "execution_count": 4,
   "metadata": {},
   "outputs": [],
   "source": [
    "df = df.drop(columns=to_drop)"
   ]
  },
  {
   "cell_type": "markdown",
   "metadata": {},
   "source": [
    "---\n",
    "### Model using summary"
   ]
  },
  {
   "cell_type": "code",
   "execution_count": 5,
   "metadata": {},
   "outputs": [],
   "source": [
    "sum_df = df['summary']"
   ]
  },
  {
   "cell_type": "code",
   "execution_count": 6,
   "metadata": {},
   "outputs": [
    {
     "data": {
      "text/plain": [
       "0      Gingerbread Mummies might be just the dessert ...\n",
       "1      Neiman Marcus Oatmeal Chocolate Chip Cookies m...\n",
       "2      Strawberry Tart takes about <b>approximately 4...\n",
       "3      Vegan Strawberry Shortcake served with Vegan W...\n",
       "4      Need a <b>lacto ovo vegetarian dessert</b>? Au...\n",
       "                             ...                        \n",
       "756    Lime S’more Tartlets might be just the hor d'o...\n",
       "757    Beef Cottage Pie is a <b>gluten free</b> recip...\n",
       "758    Easy Chicken Cordon Bleu takes about <b>around...\n",
       "759    The recipe Hummus and Za'atar is ready <b>in a...\n",
       "760    Dulce De Leche Crème Brûlée is a <b>gluten fre...\n",
       "Name: summary, Length: 761, dtype: object"
      ]
     },
     "execution_count": 6,
     "metadata": {},
     "output_type": "execute_result"
    }
   ],
   "source": [
    "sum_df"
   ]
  },
  {
   "cell_type": "code",
   "execution_count": 7,
   "metadata": {},
   "outputs": [],
   "source": [
    "cv = CountVectorizer(stop_words='english')\n",
    "cv.fit(sum_df)\n",
    "X = cv.transform(sum_df)"
   ]
  },
  {
   "cell_type": "code",
   "execution_count": 8,
   "metadata": {},
   "outputs": [
    {
     "data": {
      "text/plain": [
       "5385"
      ]
     },
     "execution_count": 8,
     "metadata": {},
     "output_type": "execute_result"
    }
   ],
   "source": [
    "len(cv.get_feature_names())"
   ]
  },
  {
   "cell_type": "code",
   "execution_count": 11,
   "metadata": {},
   "outputs": [
    {
     "data": {
      "text/plain": [
       "True"
      ]
     },
     "execution_count": 11,
     "metadata": {},
     "output_type": "execute_result"
    }
   ],
   "source": [
    "'chicken' in cv.get_feature_names()"
   ]
  },
  {
   "cell_type": "code",
   "execution_count": 25,
   "metadata": {},
   "outputs": [
    {
     "data": {
      "text/plain": [
       "87     20\n",
       "426    12\n",
       "370    11\n",
       "736    11\n",
       "366    10\n",
       "       ..\n",
       "476     1\n",
       "92      1\n",
       "267     1\n",
       "336     1\n",
       "210     0\n",
       "Name: chicken, Length: 135, dtype: Sparse[int64, 0]"
      ]
     },
     "execution_count": 25,
     "metadata": {},
     "output_type": "execute_result"
    }
   ],
   "source": [
    "pd.DataFrame.sparse.from_spmatrix(X, columns=cv.get_feature_names())['chicken'].sort_values(ascending=False).head(135)"
   ]
  },
  {
   "cell_type": "code",
   "execution_count": 26,
   "metadata": {},
   "outputs": [
    {
     "data": {
      "text/plain": [
       "KMeans(n_clusters=4, random_state=42)"
      ]
     },
     "execution_count": 26,
     "metadata": {},
     "output_type": "execute_result"
    }
   ],
   "source": [
    "km = KMeans(n_clusters=4, random_state=42)\n",
    "km.fit(X)"
   ]
  },
  {
   "cell_type": "code",
   "execution_count": 27,
   "metadata": {},
   "outputs": [],
   "source": [
    "preds = km.predict(X)"
   ]
  },
  {
   "cell_type": "code",
   "execution_count": 28,
   "metadata": {},
   "outputs": [],
   "source": [
    "df['pred_by_summary'] = preds"
   ]
  },
  {
   "cell_type": "code",
   "execution_count": 29,
   "metadata": {},
   "outputs": [
    {
     "data": {
      "text/html": [
       "<div>\n",
       "<style scoped>\n",
       "    .dataframe tbody tr th:only-of-type {\n",
       "        vertical-align: middle;\n",
       "    }\n",
       "\n",
       "    .dataframe tbody tr th {\n",
       "        vertical-align: top;\n",
       "    }\n",
       "\n",
       "    .dataframe thead th {\n",
       "        text-align: right;\n",
       "    }\n",
       "</style>\n",
       "<table border=\"1\" class=\"dataframe\">\n",
       "  <thead>\n",
       "    <tr style=\"text-align: right;\">\n",
       "      <th></th>\n",
       "      <th>vegetarian</th>\n",
       "      <th>vegan</th>\n",
       "      <th>glutenFree</th>\n",
       "      <th>dairyFree</th>\n",
       "      <th>veryHealthy</th>\n",
       "      <th>cheap</th>\n",
       "      <th>sustainable</th>\n",
       "      <th>lowFodmap</th>\n",
       "      <th>readyInMinutes</th>\n",
       "      <th>count</th>\n",
       "    </tr>\n",
       "    <tr>\n",
       "      <th>pred_by_summary</th>\n",
       "      <th></th>\n",
       "      <th></th>\n",
       "      <th></th>\n",
       "      <th></th>\n",
       "      <th></th>\n",
       "      <th></th>\n",
       "      <th></th>\n",
       "      <th></th>\n",
       "      <th></th>\n",
       "      <th></th>\n",
       "    </tr>\n",
       "  </thead>\n",
       "  <tbody>\n",
       "    <tr>\n",
       "      <th>0</th>\n",
       "      <td>6</td>\n",
       "      <td>0</td>\n",
       "      <td>9</td>\n",
       "      <td>8</td>\n",
       "      <td>1</td>\n",
       "      <td>0</td>\n",
       "      <td>0</td>\n",
       "      <td>3</td>\n",
       "      <td>585</td>\n",
       "      <td>13</td>\n",
       "    </tr>\n",
       "    <tr>\n",
       "      <th>1</th>\n",
       "      <td>275</td>\n",
       "      <td>70</td>\n",
       "      <td>299</td>\n",
       "      <td>221</td>\n",
       "      <td>69</td>\n",
       "      <td>0</td>\n",
       "      <td>0</td>\n",
       "      <td>23</td>\n",
       "      <td>31596</td>\n",
       "      <td>611</td>\n",
       "    </tr>\n",
       "    <tr>\n",
       "      <th>2</th>\n",
       "      <td>5</td>\n",
       "      <td>1</td>\n",
       "      <td>51</td>\n",
       "      <td>39</td>\n",
       "      <td>6</td>\n",
       "      <td>0</td>\n",
       "      <td>0</td>\n",
       "      <td>2</td>\n",
       "      <td>4092</td>\n",
       "      <td>81</td>\n",
       "    </tr>\n",
       "    <tr>\n",
       "      <th>3</th>\n",
       "      <td>17</td>\n",
       "      <td>4</td>\n",
       "      <td>13</td>\n",
       "      <td>10</td>\n",
       "      <td>1</td>\n",
       "      <td>0</td>\n",
       "      <td>0</td>\n",
       "      <td>3</td>\n",
       "      <td>2669</td>\n",
       "      <td>56</td>\n",
       "    </tr>\n",
       "  </tbody>\n",
       "</table>\n",
       "</div>"
      ],
      "text/plain": [
       "                 vegetarian  vegan  glutenFree  dairyFree  veryHealthy  cheap  \\\n",
       "pred_by_summary                                                                 \n",
       "0                         6      0           9          8            1      0   \n",
       "1                       275     70         299        221           69      0   \n",
       "2                         5      1          51         39            6      0   \n",
       "3                        17      4          13         10            1      0   \n",
       "\n",
       "                 sustainable  lowFodmap  readyInMinutes  count  \n",
       "pred_by_summary                                                 \n",
       "0                          0          3             585     13  \n",
       "1                          0         23           31596    611  \n",
       "2                          0          2            4092     81  \n",
       "3                          0          3            2669     56  "
      ]
     },
     "execution_count": 29,
     "metadata": {},
     "output_type": "execute_result"
    }
   ],
   "source": [
    "df.groupby(by='pred_by_summary').sum()"
   ]
  },
  {
   "cell_type": "markdown",
   "metadata": {},
   "source": [
    "---\n",
    "### Model using instructions"
   ]
  },
  {
   "cell_type": "code",
   "execution_count": 30,
   "metadata": {},
   "outputs": [],
   "source": [
    "ins_df = df['instructions']\n",
    "\n",
    "ins_df = ins_df.fillna('')"
   ]
  },
  {
   "cell_type": "code",
   "execution_count": 31,
   "metadata": {},
   "outputs": [
    {
     "data": {
      "text/plain": [
       "0      In a bowl of an electric mixer, beat the butte...\n",
       "1      Preheat oven to 375 degrees F.\\nIn a large bow...\n",
       "2      Preheat oven to 350 degrees F.\\nSift flour ont...\n",
       "3      Preheat your oven to 400 degrees F.\\nAdd the s...\n",
       "4      Beat butter in large bowl in an electric mixer...\n",
       "                             ...                        \n",
       "756    <ol><li>Prepare the graham crust: Preheat the ...\n",
       "757    Preheat oven to 375 degrees.\\nIn a large skill...\n",
       "758    Pre-heat oven into 180C.\\nGently pound the chi...\n",
       "759    Rinse the chickpeas and soak for 8 hours or ov...\n",
       "760    Oven: 325F\\nPlace six ramekins in a water bath...\n",
       "Name: instructions, Length: 761, dtype: object"
      ]
     },
     "execution_count": 31,
     "metadata": {},
     "output_type": "execute_result"
    }
   ],
   "source": [
    "ins_df"
   ]
  },
  {
   "cell_type": "code",
   "execution_count": 32,
   "metadata": {},
   "outputs": [],
   "source": [
    "cv = CountVectorizer(stop_words='english')\n",
    "cv.fit(ins_df)\n",
    "X = cv.transform(ins_df)"
   ]
  },
  {
   "cell_type": "code",
   "execution_count": 33,
   "metadata": {},
   "outputs": [
    {
     "data": {
      "text/plain": [
       "<761x3904 sparse matrix of type '<class 'numpy.int64'>'\n",
       "\twith 45838 stored elements in Compressed Sparse Row format>"
      ]
     },
     "execution_count": 33,
     "metadata": {},
     "output_type": "execute_result"
    }
   ],
   "source": [
    "X"
   ]
  },
  {
   "cell_type": "code",
   "execution_count": 34,
   "metadata": {},
   "outputs": [
    {
     "data": {
      "text/plain": [
       "3904"
      ]
     },
     "execution_count": 34,
     "metadata": {},
     "output_type": "execute_result"
    }
   ],
   "source": [
    "len(cv.get_feature_names())"
   ]
  },
  {
   "cell_type": "code",
   "execution_count": 37,
   "metadata": {},
   "outputs": [
    {
     "data": {
      "text/plain": [
       "KMeans(n_clusters=4, random_state=42)"
      ]
     },
     "execution_count": 37,
     "metadata": {},
     "output_type": "execute_result"
    }
   ],
   "source": [
    "km = KMeans(n_clusters=4, random_state=42)\n",
    "km.fit(X)"
   ]
  },
  {
   "cell_type": "code",
   "execution_count": 38,
   "metadata": {},
   "outputs": [],
   "source": [
    "preds = km.predict(X)"
   ]
  },
  {
   "cell_type": "code",
   "execution_count": 39,
   "metadata": {},
   "outputs": [],
   "source": [
    "df['pred_by_instructions'] = preds"
   ]
  },
  {
   "cell_type": "code",
   "execution_count": 40,
   "metadata": {},
   "outputs": [
    {
     "data": {
      "text/html": [
       "<div>\n",
       "<style scoped>\n",
       "    .dataframe tbody tr th:only-of-type {\n",
       "        vertical-align: middle;\n",
       "    }\n",
       "\n",
       "    .dataframe tbody tr th {\n",
       "        vertical-align: top;\n",
       "    }\n",
       "\n",
       "    .dataframe thead th {\n",
       "        text-align: right;\n",
       "    }\n",
       "</style>\n",
       "<table border=\"1\" class=\"dataframe\">\n",
       "  <thead>\n",
       "    <tr style=\"text-align: right;\">\n",
       "      <th></th>\n",
       "      <th>vegetarian</th>\n",
       "      <th>vegan</th>\n",
       "      <th>glutenFree</th>\n",
       "      <th>dairyFree</th>\n",
       "      <th>veryHealthy</th>\n",
       "      <th>cheap</th>\n",
       "      <th>sustainable</th>\n",
       "      <th>lowFodmap</th>\n",
       "      <th>readyInMinutes</th>\n",
       "      <th>count</th>\n",
       "      <th>pred_by_summary</th>\n",
       "    </tr>\n",
       "    <tr>\n",
       "      <th>pred_by_instructions</th>\n",
       "      <th></th>\n",
       "      <th></th>\n",
       "      <th></th>\n",
       "      <th></th>\n",
       "      <th></th>\n",
       "      <th></th>\n",
       "      <th></th>\n",
       "      <th></th>\n",
       "      <th></th>\n",
       "      <th></th>\n",
       "      <th></th>\n",
       "    </tr>\n",
       "  </thead>\n",
       "  <tbody>\n",
       "    <tr>\n",
       "      <th>0</th>\n",
       "      <td>178</td>\n",
       "      <td>44</td>\n",
       "      <td>227</td>\n",
       "      <td>176</td>\n",
       "      <td>39</td>\n",
       "      <td>0</td>\n",
       "      <td>0</td>\n",
       "      <td>20</td>\n",
       "      <td>22317</td>\n",
       "      <td>444</td>\n",
       "      <td>555</td>\n",
       "    </tr>\n",
       "    <tr>\n",
       "      <th>1</th>\n",
       "      <td>42</td>\n",
       "      <td>7</td>\n",
       "      <td>43</td>\n",
       "      <td>28</td>\n",
       "      <td>14</td>\n",
       "      <td>0</td>\n",
       "      <td>0</td>\n",
       "      <td>4</td>\n",
       "      <td>6445</td>\n",
       "      <td>118</td>\n",
       "      <td>155</td>\n",
       "    </tr>\n",
       "    <tr>\n",
       "      <th>2</th>\n",
       "      <td>5</td>\n",
       "      <td>0</td>\n",
       "      <td>3</td>\n",
       "      <td>5</td>\n",
       "      <td>2</td>\n",
       "      <td>0</td>\n",
       "      <td>0</td>\n",
       "      <td>1</td>\n",
       "      <td>585</td>\n",
       "      <td>10</td>\n",
       "      <td>12</td>\n",
       "    </tr>\n",
       "    <tr>\n",
       "      <th>3</th>\n",
       "      <td>78</td>\n",
       "      <td>24</td>\n",
       "      <td>99</td>\n",
       "      <td>69</td>\n",
       "      <td>22</td>\n",
       "      <td>0</td>\n",
       "      <td>0</td>\n",
       "      <td>6</td>\n",
       "      <td>9595</td>\n",
       "      <td>189</td>\n",
       "      <td>219</td>\n",
       "    </tr>\n",
       "  </tbody>\n",
       "</table>\n",
       "</div>"
      ],
      "text/plain": [
       "                      vegetarian  vegan  glutenFree  dairyFree  veryHealthy  \\\n",
       "pred_by_instructions                                                          \n",
       "0                            178     44         227        176           39   \n",
       "1                             42      7          43         28           14   \n",
       "2                              5      0           3          5            2   \n",
       "3                             78     24          99         69           22   \n",
       "\n",
       "                      cheap  sustainable  lowFodmap  readyInMinutes  count  \\\n",
       "pred_by_instructions                                                         \n",
       "0                         0            0         20           22317    444   \n",
       "1                         0            0          4            6445    118   \n",
       "2                         0            0          1             585     10   \n",
       "3                         0            0          6            9595    189   \n",
       "\n",
       "                      pred_by_summary  \n",
       "pred_by_instructions                   \n",
       "0                                 555  \n",
       "1                                 155  \n",
       "2                                  12  \n",
       "3                                 219  "
      ]
     },
     "execution_count": 40,
     "metadata": {},
     "output_type": "execute_result"
    }
   ],
   "source": [
    "df.groupby(by='pred_by_instructions').sum()"
   ]
  },
  {
   "cell_type": "markdown",
   "metadata": {},
   "source": [
    "---\n",
    "### Model using summary and instructions"
   ]
  },
  {
   "cell_type": "code",
   "execution_count": 41,
   "metadata": {},
   "outputs": [],
   "source": [
    "com_df = df['summary'] + df['instructions'].fillna('')"
   ]
  },
  {
   "cell_type": "code",
   "execution_count": 42,
   "metadata": {},
   "outputs": [
    {
     "data": {
      "text/plain": [
       "0      Gingerbread Mummies might be just the dessert ...\n",
       "1      Neiman Marcus Oatmeal Chocolate Chip Cookies m...\n",
       "2      Strawberry Tart takes about <b>approximately 4...\n",
       "3      Vegan Strawberry Shortcake served with Vegan W...\n",
       "4      Need a <b>lacto ovo vegetarian dessert</b>? Au...\n",
       "                             ...                        \n",
       "756    Lime S’more Tartlets might be just the hor d'o...\n",
       "757    Beef Cottage Pie is a <b>gluten free</b> recip...\n",
       "758    Easy Chicken Cordon Bleu takes about <b>around...\n",
       "759    The recipe Hummus and Za'atar is ready <b>in a...\n",
       "760    Dulce De Leche Crème Brûlée is a <b>gluten fre...\n",
       "Length: 761, dtype: object"
      ]
     },
     "execution_count": 42,
     "metadata": {},
     "output_type": "execute_result"
    }
   ],
   "source": [
    "com_df"
   ]
  },
  {
   "cell_type": "code",
   "execution_count": 43,
   "metadata": {},
   "outputs": [
    {
     "data": {
      "text/plain": [
       "str"
      ]
     },
     "execution_count": 43,
     "metadata": {},
     "output_type": "execute_result"
    }
   ],
   "source": [
    "type(com_df.iloc[0])"
   ]
  },
  {
   "cell_type": "code",
   "execution_count": 44,
   "metadata": {},
   "outputs": [],
   "source": [
    "cv = CountVectorizer()\n",
    "cv.fit(com_df)\n",
    "X = cv.transform(com_df)"
   ]
  },
  {
   "cell_type": "code",
   "execution_count": 45,
   "metadata": {},
   "outputs": [
    {
     "data": {
      "text/plain": [
       "8105"
      ]
     },
     "execution_count": 45,
     "metadata": {},
     "output_type": "execute_result"
    }
   ],
   "source": [
    "len(cv.get_feature_names())"
   ]
  },
  {
   "cell_type": "code",
   "execution_count": 50,
   "metadata": {},
   "outputs": [
    {
     "data": {
      "text/plain": [
       "87     24\n",
       "370    18\n",
       "222    17\n",
       "732    16\n",
       "183    15\n",
       "       ..\n",
       "252     1\n",
       "642     1\n",
       "88      1\n",
       "246     0\n",
       "212     0\n",
       "Name: chicken, Length: 160, dtype: Sparse[int64, 0]"
      ]
     },
     "execution_count": 50,
     "metadata": {},
     "output_type": "execute_result"
    }
   ],
   "source": [
    "# Check how many occurances of chicken there are in the recipe ingredients\n",
    "pd.DataFrame.sparse.from_spmatrix(X, columns=cv.get_feature_names())['chicken'].sort_values(ascending=False).head(160)"
   ]
  },
  {
   "cell_type": "code",
   "execution_count": 52,
   "metadata": {},
   "outputs": [
    {
     "data": {
      "text/plain": [
       "vegetarian                                                              0\n",
       "vegan                                                                   0\n",
       "glutenFree                                                              1\n",
       "dairyFree                                                               1\n",
       "veryHealthy                                                             0\n",
       "cheap                                                                   0\n",
       "sustainable                                                             0\n",
       "lowFodmap                                                               0\n",
       "title                                                   Three-Cup Chicken\n",
       "readyInMinutes                                                         45\n",
       "summary                 Three-Cup Chicken might be just the main cours...\n",
       "dishTypes                 ['lunch', 'main course', 'main dish', 'dinner']\n",
       "instructions            <ol><li>Marinate chicken with soy, sesame oil ...\n",
       "count                                                                   1\n",
       "pred_by_summary                                                         2\n",
       "pred_by_instructions                                                    3\n",
       "Name: 87, dtype: object"
      ]
     },
     "execution_count": 52,
     "metadata": {},
     "output_type": "execute_result"
    }
   ],
   "source": [
    "# someone really likes chicken\n",
    "df.iloc[87]"
   ]
  },
  {
   "cell_type": "code",
   "execution_count": 60,
   "metadata": {},
   "outputs": [
    {
     "data": {
      "text/plain": [
       "\"['fresh basil', 'garlic', 'ginger', 'shaoxing wine', 'sesame oil', 'soy sauce', 'spring onions', 'sugar', 'whole chicken']\""
      ]
     },
     "execution_count": 60,
     "metadata": {},
     "output_type": "execute_result"
    }
   ],
   "source": [
    "df['simplifiedIngredients'].iloc[87]"
   ]
  },
  {
   "cell_type": "code",
   "execution_count": 39,
   "metadata": {},
   "outputs": [
    {
     "data": {
      "text/plain": [
       "KMeans(n_clusters=4, random_state=42)"
      ]
     },
     "execution_count": 39,
     "metadata": {},
     "output_type": "execute_result"
    }
   ],
   "source": [
    "km = KMeans(n_clusters=4, random_state=42)\n",
    "km.fit(X)"
   ]
  },
  {
   "cell_type": "code",
   "execution_count": 40,
   "metadata": {},
   "outputs": [],
   "source": [
    "preds = km.predict(X)"
   ]
  },
  {
   "cell_type": "code",
   "execution_count": 41,
   "metadata": {},
   "outputs": [],
   "source": [
    "df['pred_by_summary'] = preds"
   ]
  },
  {
   "cell_type": "code",
   "execution_count": 42,
   "metadata": {},
   "outputs": [
    {
     "data": {
      "text/html": [
       "<div>\n",
       "<style scoped>\n",
       "    .dataframe tbody tr th:only-of-type {\n",
       "        vertical-align: middle;\n",
       "    }\n",
       "\n",
       "    .dataframe tbody tr th {\n",
       "        vertical-align: top;\n",
       "    }\n",
       "\n",
       "    .dataframe thead th {\n",
       "        text-align: right;\n",
       "    }\n",
       "</style>\n",
       "<table border=\"1\" class=\"dataframe\">\n",
       "  <thead>\n",
       "    <tr style=\"text-align: right;\">\n",
       "      <th></th>\n",
       "      <th>vegetarian</th>\n",
       "      <th>vegan</th>\n",
       "      <th>glutenFree</th>\n",
       "      <th>dairyFree</th>\n",
       "      <th>veryHealthy</th>\n",
       "      <th>cheap</th>\n",
       "      <th>sustainable</th>\n",
       "      <th>lowFodmap</th>\n",
       "      <th>readyInMinutes</th>\n",
       "      <th>count</th>\n",
       "      <th>pred_by_instructions</th>\n",
       "    </tr>\n",
       "    <tr>\n",
       "      <th>pred_by_summary</th>\n",
       "      <th></th>\n",
       "      <th></th>\n",
       "      <th></th>\n",
       "      <th></th>\n",
       "      <th></th>\n",
       "      <th></th>\n",
       "      <th></th>\n",
       "      <th></th>\n",
       "      <th></th>\n",
       "      <th></th>\n",
       "      <th></th>\n",
       "    </tr>\n",
       "  </thead>\n",
       "  <tbody>\n",
       "    <tr>\n",
       "      <th>0</th>\n",
       "      <td>12</td>\n",
       "      <td>0</td>\n",
       "      <td>9</td>\n",
       "      <td>9</td>\n",
       "      <td>5</td>\n",
       "      <td>0</td>\n",
       "      <td>0</td>\n",
       "      <td>2</td>\n",
       "      <td>1785</td>\n",
       "      <td>32</td>\n",
       "      <td>41</td>\n",
       "    </tr>\n",
       "    <tr>\n",
       "      <th>1</th>\n",
       "      <td>189</td>\n",
       "      <td>54</td>\n",
       "      <td>216</td>\n",
       "      <td>168</td>\n",
       "      <td>35</td>\n",
       "      <td>0</td>\n",
       "      <td>0</td>\n",
       "      <td>21</td>\n",
       "      <td>21330</td>\n",
       "      <td>414</td>\n",
       "      <td>492</td>\n",
       "    </tr>\n",
       "    <tr>\n",
       "      <th>2</th>\n",
       "      <td>38</td>\n",
       "      <td>10</td>\n",
       "      <td>82</td>\n",
       "      <td>55</td>\n",
       "      <td>20</td>\n",
       "      <td>0</td>\n",
       "      <td>0</td>\n",
       "      <td>3</td>\n",
       "      <td>7257</td>\n",
       "      <td>148</td>\n",
       "      <td>174</td>\n",
       "    </tr>\n",
       "    <tr>\n",
       "      <th>3</th>\n",
       "      <td>64</td>\n",
       "      <td>11</td>\n",
       "      <td>65</td>\n",
       "      <td>46</td>\n",
       "      <td>17</td>\n",
       "      <td>0</td>\n",
       "      <td>0</td>\n",
       "      <td>5</td>\n",
       "      <td>8570</td>\n",
       "      <td>167</td>\n",
       "      <td>154</td>\n",
       "    </tr>\n",
       "  </tbody>\n",
       "</table>\n",
       "</div>"
      ],
      "text/plain": [
       "                 vegetarian  vegan  glutenFree  dairyFree  veryHealthy  cheap  \\\n",
       "pred_by_summary                                                                 \n",
       "0                        12      0           9          9            5      0   \n",
       "1                       189     54         216        168           35      0   \n",
       "2                        38     10          82         55           20      0   \n",
       "3                        64     11          65         46           17      0   \n",
       "\n",
       "                 sustainable  lowFodmap  readyInMinutes  count  \\\n",
       "pred_by_summary                                                  \n",
       "0                          0          2            1785     32   \n",
       "1                          0         21           21330    414   \n",
       "2                          0          3            7257    148   \n",
       "3                          0          5            8570    167   \n",
       "\n",
       "                 pred_by_instructions  \n",
       "pred_by_summary                        \n",
       "0                                  41  \n",
       "1                                 492  \n",
       "2                                 174  \n",
       "3                                 154  "
      ]
     },
     "execution_count": 42,
     "metadata": {},
     "output_type": "execute_result"
    }
   ],
   "source": [
    "df.groupby(by='pred_by_summary').sum()"
   ]
  },
  {
   "cell_type": "code",
   "execution_count": null,
   "metadata": {},
   "outputs": [],
   "source": []
  }
 ],
 "metadata": {
  "kernelspec": {
   "display_name": "Python 3",
   "language": "python",
   "name": "python3"
  },
  "language_info": {
   "codemirror_mode": {
    "name": "ipython",
    "version": 3
   },
   "file_extension": ".py",
   "mimetype": "text/x-python",
   "name": "python",
   "nbconvert_exporter": "python",
   "pygments_lexer": "ipython3",
   "version": "3.8.5"
  }
 },
 "nbformat": 4,
 "nbformat_minor": 5
}
