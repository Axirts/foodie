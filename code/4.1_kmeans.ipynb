{
 "cells": [
  {
   "cell_type": "markdown",
   "id": "4925c6ad",
   "metadata": {},
   "source": [
    "## KMeans classification"
   ]
  },
  {
   "cell_type": "code",
   "execution_count": 1,
   "id": "04de8e46",
   "metadata": {},
   "outputs": [],
   "source": [
    "import pandas as pd\n",
    "import numpy as np\n",
    "import matplotlib.pyplot as plt\n",
    "import seaborn as sns\n",
    "\n",
    "from sklearn.model_selection import train_test_split\n",
    "from sklearn.feature_extraction.text import CountVectorizer\n",
    "\n",
    "from sklearn.cluster import KMeans\n",
    "from sklearn.metrics import silhouette_score"
   ]
  },
  {
   "cell_type": "code",
   "execution_count": 2,
   "id": "5242eb3f",
   "metadata": {},
   "outputs": [
    {
     "name": "stdout",
     "output_type": "stream",
     "text": [
      "(761, 17)\n"
     ]
    },
    {
     "data": {
      "text/html": [
       "<div>\n",
       "<style scoped>\n",
       "    .dataframe tbody tr th:only-of-type {\n",
       "        vertical-align: middle;\n",
       "    }\n",
       "\n",
       "    .dataframe tbody tr th {\n",
       "        vertical-align: top;\n",
       "    }\n",
       "\n",
       "    .dataframe thead th {\n",
       "        text-align: right;\n",
       "    }\n",
       "</style>\n",
       "<table border=\"1\" class=\"dataframe\">\n",
       "  <thead>\n",
       "    <tr style=\"text-align: right;\">\n",
       "      <th></th>\n",
       "      <th>vegetarian</th>\n",
       "      <th>vegan</th>\n",
       "      <th>glutenFree</th>\n",
       "      <th>dairyFree</th>\n",
       "      <th>veryHealthy</th>\n",
       "      <th>cheap</th>\n",
       "      <th>sustainable</th>\n",
       "      <th>lowFodmap</th>\n",
       "      <th>title</th>\n",
       "      <th>readyInMinutes</th>\n",
       "      <th>summary</th>\n",
       "      <th>cuisines</th>\n",
       "      <th>dishTypes</th>\n",
       "      <th>occasions</th>\n",
       "      <th>instructions</th>\n",
       "      <th>simplifiedIngredients</th>\n",
       "      <th>simplifiedInstructions</th>\n",
       "      <th>count</th>\n",
       "    </tr>\n",
       "  </thead>\n",
       "  <tbody>\n",
       "    <tr>\n",
       "      <th>0</th>\n",
       "      <td>1</td>\n",
       "      <td>0</td>\n",
       "      <td>0</td>\n",
       "      <td>0</td>\n",
       "      <td>0</td>\n",
       "      <td>0</td>\n",
       "      <td>0</td>\n",
       "      <td>0</td>\n",
       "      <td>Gingerbread Mummies</td>\n",
       "      <td>45</td>\n",
       "      <td>Gingerbread Mummies might be just the dessert ...</td>\n",
       "      <td>[]</td>\n",
       "      <td>['dessert']</td>\n",
       "      <td>['christmas']</td>\n",
       "      <td>In a bowl of an electric mixer, beat the butte...</td>\n",
       "      <td>['unsalted butter', 'wheat flour', 'sugar', 'm...</td>\n",
       "      <td>['In a bowl of an electric mixer, beat the but...</td>\n",
       "      <td>1</td>\n",
       "    </tr>\n",
       "    <tr>\n",
       "      <th>1</th>\n",
       "      <td>0</td>\n",
       "      <td>0</td>\n",
       "      <td>0</td>\n",
       "      <td>0</td>\n",
       "      <td>0</td>\n",
       "      <td>0</td>\n",
       "      <td>0</td>\n",
       "      <td>0</td>\n",
       "      <td>Neiman Marcus Oatmeal Chocolate Chip Cookies</td>\n",
       "      <td>45</td>\n",
       "      <td>Neiman Marcus Oatmeal Chocolate Chip Cookies m...</td>\n",
       "      <td>[]</td>\n",
       "      <td>['dessert']</td>\n",
       "      <td>[]</td>\n",
       "      <td>Preheat oven to 375 degrees F.\\r\\nIn a large b...</td>\n",
       "      <td>['butter', 'sugar', 'golden brown sugar', 'egg...</td>\n",
       "      <td>['Preheat oven to 375 degrees F.', 'In a large...</td>\n",
       "      <td>1</td>\n",
       "    </tr>\n",
       "    <tr>\n",
       "      <th>2</th>\n",
       "      <td>1</td>\n",
       "      <td>0</td>\n",
       "      <td>0</td>\n",
       "      <td>0</td>\n",
       "      <td>0</td>\n",
       "      <td>0</td>\n",
       "      <td>0</td>\n",
       "      <td>0</td>\n",
       "      <td>Strawberry Tart</td>\n",
       "      <td>45</td>\n",
       "      <td>Strawberry Tart takes about &lt;b&gt;approximately 4...</td>\n",
       "      <td>[]</td>\n",
       "      <td>['dessert']</td>\n",
       "      <td>[\"mother's day\"]</td>\n",
       "      <td>Preheat oven to 350 degrees F.\\r\\nSift flour o...</td>\n",
       "      <td>['wheat flour', 'unsalted butter', 'water', 'e...</td>\n",
       "      <td>['Preheat oven to 350 degrees F.', 'Sift flour...</td>\n",
       "      <td>1</td>\n",
       "    </tr>\n",
       "  </tbody>\n",
       "</table>\n",
       "</div>"
      ],
      "text/plain": [
       "   vegetarian  vegan  glutenFree  dairyFree  veryHealthy  cheap  sustainable  \\\n",
       "0           1      0           0          0            0      0            0   \n",
       "1           0      0           0          0            0      0            0   \n",
       "2           1      0           0          0            0      0            0   \n",
       "\n",
       "   lowFodmap                                         title  readyInMinutes  \\\n",
       "0          0                           Gingerbread Mummies              45   \n",
       "1          0  Neiman Marcus Oatmeal Chocolate Chip Cookies              45   \n",
       "2          0                               Strawberry Tart              45   \n",
       "\n",
       "                                             summary cuisines    dishTypes  \\\n",
       "0  Gingerbread Mummies might be just the dessert ...       []  ['dessert']   \n",
       "1  Neiman Marcus Oatmeal Chocolate Chip Cookies m...       []  ['dessert']   \n",
       "2  Strawberry Tart takes about <b>approximately 4...       []  ['dessert']   \n",
       "\n",
       "          occasions                                       instructions  \\\n",
       "0     ['christmas']  In a bowl of an electric mixer, beat the butte...   \n",
       "1                []  Preheat oven to 375 degrees F.\\r\\nIn a large b...   \n",
       "2  [\"mother's day\"]  Preheat oven to 350 degrees F.\\r\\nSift flour o...   \n",
       "\n",
       "                               simplifiedIngredients  \\\n",
       "0  ['unsalted butter', 'wheat flour', 'sugar', 'm...   \n",
       "1  ['butter', 'sugar', 'golden brown sugar', 'egg...   \n",
       "2  ['wheat flour', 'unsalted butter', 'water', 'e...   \n",
       "\n",
       "                              simplifiedInstructions  count  \n",
       "0  ['In a bowl of an electric mixer, beat the but...      1  \n",
       "1  ['Preheat oven to 375 degrees F.', 'In a large...      1  \n",
       "2  ['Preheat oven to 350 degrees F.', 'Sift flour...      1  "
      ]
     },
     "execution_count": 2,
     "metadata": {},
     "output_type": "execute_result"
    }
   ],
   "source": [
    "df = pd.read_csv('../data/recipes.csv').drop(columns=['Unnamed: 0'])\n",
    "print(df.shape)\n",
    "df['count'] = 1\n",
    "df.head(3)"
   ]
  },
  {
   "cell_type": "code",
   "execution_count": 3,
   "id": "8b90d06d-59f3-4d7c-a529-6e0bba5960a8",
   "metadata": {},
   "outputs": [],
   "source": [
    "to_drop = [\n",
    "    'cuisines', \n",
    "    'occasions',\n",
    "    'simplifiedIngredients',\n",
    "    'simplifiedInstructions'\n",
    "]"
   ]
  },
  {
   "cell_type": "code",
   "execution_count": 4,
   "id": "86bcd21f-9152-48eb-bb86-0f541674d03e",
   "metadata": {},
   "outputs": [],
   "source": [
    "df = df.drop(columns=to_drop)"
   ]
  },
  {
   "cell_type": "markdown",
   "id": "1f064836-fc5f-44d4-a77b-27e8402e0645",
   "metadata": {},
   "source": [
    "---\n",
    "### Model using summary"
   ]
  },
  {
   "cell_type": "code",
   "execution_count": 5,
   "id": "bcbfdc5d-a88f-4455-8c9c-0ec3bd8ee0db",
   "metadata": {},
   "outputs": [],
   "source": [
    "sum_df = df['summary']"
   ]
  },
  {
   "cell_type": "code",
   "execution_count": 6,
   "id": "661c4d19-ff78-49e2-aa84-54beedc44234",
   "metadata": {},
   "outputs": [
    {
     "data": {
      "text/plain": [
       "0      Gingerbread Mummies might be just the dessert ...\n",
       "1      Neiman Marcus Oatmeal Chocolate Chip Cookies m...\n",
       "2      Strawberry Tart takes about <b>approximately 4...\n",
       "3      Vegan Strawberry Shortcake served with Vegan W...\n",
       "4      Need a <b>lacto ovo vegetarian dessert</b>? Au...\n",
       "                             ...                        \n",
       "756    Lime S’more Tartlets might be just the hor d'o...\n",
       "757    Beef Cottage Pie is a <b>gluten free</b> recip...\n",
       "758    Easy Chicken Cordon Bleu takes about <b>around...\n",
       "759    The recipe Hummus and Za'atar is ready <b>in a...\n",
       "760    Dulce De Leche Crème Brûlée is a <b>gluten fre...\n",
       "Name: summary, Length: 761, dtype: object"
      ]
     },
     "execution_count": 6,
     "metadata": {},
     "output_type": "execute_result"
    }
   ],
   "source": [
    "sum_df"
   ]
  },
  {
   "cell_type": "code",
   "execution_count": 7,
   "id": "2b917b73-7bcc-48f0-a659-63c520891dff",
   "metadata": {},
   "outputs": [],
   "source": [
    "cv = CountVectorizer(stop_words='english')\n",
    "cv.fit(sum_df)\n",
    "X = cv.transform(sum_df)"
   ]
  },
  {
   "cell_type": "code",
   "execution_count": 8,
   "id": "1a023380-9574-41f2-b9cd-4f9fec02fb00",
   "metadata": {},
   "outputs": [
    {
     "data": {
      "text/plain": [
       "5385"
      ]
     },
     "execution_count": 8,
     "metadata": {},
     "output_type": "execute_result"
    }
   ],
   "source": [
    "len(cv.get_feature_names())"
   ]
  },
  {
   "cell_type": "code",
   "execution_count": 9,
   "id": "245b18de-24e5-4229-8e57-9462ed9a63bc",
   "metadata": {},
   "outputs": [
    {
     "data": {
      "text/plain": [
       "KMeans(n_clusters=4, random_state=42)"
      ]
     },
     "execution_count": 9,
     "metadata": {},
     "output_type": "execute_result"
    }
   ],
   "source": [
    "km = KMeans(n_clusters=4, random_state=42)\n",
    "km.fit(X)"
   ]
  },
  {
   "cell_type": "code",
   "execution_count": 10,
   "id": "ca1db459-9888-407a-a952-252a3cb179b7",
   "metadata": {},
   "outputs": [],
   "source": [
    "preds = km.predict(X)"
   ]
  },
  {
   "cell_type": "code",
   "execution_count": 11,
   "id": "a28a71d9-85d3-49a8-a555-ba6a46b60eb1",
   "metadata": {},
   "outputs": [],
   "source": [
    "df['pred_by_summary'] = preds"
   ]
  },
  {
   "cell_type": "code",
   "execution_count": 12,
   "id": "79c330b5-5b72-4c6e-b2e0-a613150a10bb",
   "metadata": {},
   "outputs": [
    {
     "data": {
      "text/html": [
       "<div>\n",
       "<style scoped>\n",
       "    .dataframe tbody tr th:only-of-type {\n",
       "        vertical-align: middle;\n",
       "    }\n",
       "\n",
       "    .dataframe tbody tr th {\n",
       "        vertical-align: top;\n",
       "    }\n",
       "\n",
       "    .dataframe thead th {\n",
       "        text-align: right;\n",
       "    }\n",
       "</style>\n",
       "<table border=\"1\" class=\"dataframe\">\n",
       "  <thead>\n",
       "    <tr style=\"text-align: right;\">\n",
       "      <th></th>\n",
       "      <th>vegetarian</th>\n",
       "      <th>vegan</th>\n",
       "      <th>glutenFree</th>\n",
       "      <th>dairyFree</th>\n",
       "      <th>veryHealthy</th>\n",
       "      <th>cheap</th>\n",
       "      <th>sustainable</th>\n",
       "      <th>lowFodmap</th>\n",
       "      <th>readyInMinutes</th>\n",
       "      <th>count</th>\n",
       "    </tr>\n",
       "    <tr>\n",
       "      <th>pred_by_summary</th>\n",
       "      <th></th>\n",
       "      <th></th>\n",
       "      <th></th>\n",
       "      <th></th>\n",
       "      <th></th>\n",
       "      <th></th>\n",
       "      <th></th>\n",
       "      <th></th>\n",
       "      <th></th>\n",
       "      <th></th>\n",
       "    </tr>\n",
       "  </thead>\n",
       "  <tbody>\n",
       "    <tr>\n",
       "      <th>0</th>\n",
       "      <td>280</td>\n",
       "      <td>68</td>\n",
       "      <td>297</td>\n",
       "      <td>220</td>\n",
       "      <td>62</td>\n",
       "      <td>0</td>\n",
       "      <td>0</td>\n",
       "      <td>25</td>\n",
       "      <td>32165</td>\n",
       "      <td>634</td>\n",
       "    </tr>\n",
       "    <tr>\n",
       "      <th>1</th>\n",
       "      <td>3</td>\n",
       "      <td>0</td>\n",
       "      <td>6</td>\n",
       "      <td>6</td>\n",
       "      <td>1</td>\n",
       "      <td>0</td>\n",
       "      <td>0</td>\n",
       "      <td>3</td>\n",
       "      <td>345</td>\n",
       "      <td>8</td>\n",
       "    </tr>\n",
       "    <tr>\n",
       "      <th>2</th>\n",
       "      <td>5</td>\n",
       "      <td>1</td>\n",
       "      <td>48</td>\n",
       "      <td>32</td>\n",
       "      <td>5</td>\n",
       "      <td>0</td>\n",
       "      <td>0</td>\n",
       "      <td>2</td>\n",
       "      <td>3377</td>\n",
       "      <td>74</td>\n",
       "    </tr>\n",
       "    <tr>\n",
       "      <th>3</th>\n",
       "      <td>15</td>\n",
       "      <td>6</td>\n",
       "      <td>21</td>\n",
       "      <td>20</td>\n",
       "      <td>9</td>\n",
       "      <td>0</td>\n",
       "      <td>0</td>\n",
       "      <td>1</td>\n",
       "      <td>3055</td>\n",
       "      <td>45</td>\n",
       "    </tr>\n",
       "  </tbody>\n",
       "</table>\n",
       "</div>"
      ],
      "text/plain": [
       "                 vegetarian  vegan  glutenFree  dairyFree  veryHealthy  cheap  \\\n",
       "pred_by_summary                                                                 \n",
       "0                       280     68         297        220           62      0   \n",
       "1                         3      0           6          6            1      0   \n",
       "2                         5      1          48         32            5      0   \n",
       "3                        15      6          21         20            9      0   \n",
       "\n",
       "                 sustainable  lowFodmap  readyInMinutes  count  \n",
       "pred_by_summary                                                 \n",
       "0                          0         25           32165    634  \n",
       "1                          0          3             345      8  \n",
       "2                          0          2            3377     74  \n",
       "3                          0          1            3055     45  "
      ]
     },
     "execution_count": 12,
     "metadata": {},
     "output_type": "execute_result"
    }
   ],
   "source": [
    "df.groupby(by='pred_by_summary').sum()"
   ]
  },
  {
   "cell_type": "markdown",
   "id": "08f7031f-1b2d-49f1-8db8-c047f377a843",
   "metadata": {},
   "source": [
    "---\n",
    "### Model using instructions"
   ]
  },
  {
   "cell_type": "code",
   "execution_count": 13,
   "id": "a12307d5-0fa6-46fd-9973-9a6361d0468e",
   "metadata": {},
   "outputs": [],
   "source": [
    "ins_df = df['instructions']\n",
    "\n",
    "ins_df = ins_df.fillna('')"
   ]
  },
  {
   "cell_type": "code",
   "execution_count": 15,
   "id": "009e29b4-5c22-4ee7-ad87-c90dc4af206d",
   "metadata": {},
   "outputs": [
    {
     "data": {
      "text/plain": [
       "0      In a bowl of an electric mixer, beat the butte...\n",
       "1      Preheat oven to 375 degrees F.\\r\\nIn a large b...\n",
       "2      Preheat oven to 350 degrees F.\\r\\nSift flour o...\n",
       "3      Preheat your oven to 400 degrees F.\\r\\nAdd the...\n",
       "4      Beat butter in large bowl in an electric mixer...\n",
       "                             ...                        \n",
       "756    <ol><li>Prepare the graham crust: Preheat the ...\n",
       "757    Preheat oven to 375 degrees.\\r\\nIn a large ski...\n",
       "758    Pre-heat oven into 180C.\\r\\nGently pound the c...\n",
       "759    Rinse the chickpeas and soak for 8 hours or ov...\n",
       "760    Oven: 325F\\r\\nPlace six ramekins in a water ba...\n",
       "Name: instructions, Length: 761, dtype: object"
      ]
     },
     "execution_count": 15,
     "metadata": {},
     "output_type": "execute_result"
    }
   ],
   "source": [
    "ins_df"
   ]
  },
  {
   "cell_type": "code",
   "execution_count": 16,
   "id": "fe66f7f1-f629-4ee1-a080-832e3a059772",
   "metadata": {},
   "outputs": [],
   "source": [
    "cv = CountVectorizer(stop_words='english')\n",
    "cv.fit(ins_df)\n",
    "X = cv.transform(ins_df)"
   ]
  },
  {
   "cell_type": "code",
   "execution_count": 17,
   "id": "261cb56e-81e6-46e4-a0c8-8f591d62c4d3",
   "metadata": {},
   "outputs": [
    {
     "data": {
      "text/plain": [
       "<761x3904 sparse matrix of type '<class 'numpy.int64'>'\n",
       "\twith 45838 stored elements in Compressed Sparse Row format>"
      ]
     },
     "execution_count": 17,
     "metadata": {},
     "output_type": "execute_result"
    }
   ],
   "source": [
    "X"
   ]
  },
  {
   "cell_type": "code",
   "execution_count": 18,
   "id": "c1eaff0c-c924-4c2d-9ee6-38441b50a8e1",
   "metadata": {},
   "outputs": [
    {
     "data": {
      "text/plain": [
       "3904"
      ]
     },
     "execution_count": 18,
     "metadata": {},
     "output_type": "execute_result"
    }
   ],
   "source": [
    "len(cv.get_feature_names())"
   ]
  },
  {
   "cell_type": "code",
   "execution_count": 19,
   "id": "45e393e1-4735-40c9-b3a3-210d372aca5b",
   "metadata": {},
   "outputs": [
    {
     "data": {
      "text/plain": [
       "KMeans(n_clusters=4, random_state=42)"
      ]
     },
     "execution_count": 19,
     "metadata": {},
     "output_type": "execute_result"
    }
   ],
   "source": [
    "km = KMeans(n_clusters=4, random_state=42)\n",
    "km.fit(X)"
   ]
  },
  {
   "cell_type": "code",
   "execution_count": 20,
   "id": "067f5a36-13b6-40a9-be8d-e097b3a311d2",
   "metadata": {},
   "outputs": [],
   "source": [
    "preds = km.predict(X)"
   ]
  },
  {
   "cell_type": "code",
   "execution_count": 21,
   "id": "003fbb83-2fcb-41b8-afff-9ad291972a31",
   "metadata": {},
   "outputs": [],
   "source": [
    "df['pred_by_instructions'] = preds"
   ]
  },
  {
   "cell_type": "code",
   "execution_count": 22,
   "id": "20379cb0-6121-467a-9225-0151296ad976",
   "metadata": {},
   "outputs": [
    {
     "data": {
      "text/html": [
       "<div>\n",
       "<style scoped>\n",
       "    .dataframe tbody tr th:only-of-type {\n",
       "        vertical-align: middle;\n",
       "    }\n",
       "\n",
       "    .dataframe tbody tr th {\n",
       "        vertical-align: top;\n",
       "    }\n",
       "\n",
       "    .dataframe thead th {\n",
       "        text-align: right;\n",
       "    }\n",
       "</style>\n",
       "<table border=\"1\" class=\"dataframe\">\n",
       "  <thead>\n",
       "    <tr style=\"text-align: right;\">\n",
       "      <th></th>\n",
       "      <th>vegetarian</th>\n",
       "      <th>vegan</th>\n",
       "      <th>glutenFree</th>\n",
       "      <th>dairyFree</th>\n",
       "      <th>veryHealthy</th>\n",
       "      <th>cheap</th>\n",
       "      <th>sustainable</th>\n",
       "      <th>lowFodmap</th>\n",
       "      <th>readyInMinutes</th>\n",
       "      <th>count</th>\n",
       "      <th>pred_by_summary</th>\n",
       "    </tr>\n",
       "    <tr>\n",
       "      <th>pred_by_instructions</th>\n",
       "      <th></th>\n",
       "      <th></th>\n",
       "      <th></th>\n",
       "      <th></th>\n",
       "      <th></th>\n",
       "      <th></th>\n",
       "      <th></th>\n",
       "      <th></th>\n",
       "      <th></th>\n",
       "      <th></th>\n",
       "      <th></th>\n",
       "    </tr>\n",
       "  </thead>\n",
       "  <tbody>\n",
       "    <tr>\n",
       "      <th>0</th>\n",
       "      <td>42</td>\n",
       "      <td>7</td>\n",
       "      <td>43</td>\n",
       "      <td>28</td>\n",
       "      <td>13</td>\n",
       "      <td>0</td>\n",
       "      <td>0</td>\n",
       "      <td>4</td>\n",
       "      <td>6115</td>\n",
       "      <td>115</td>\n",
       "      <td>46</td>\n",
       "    </tr>\n",
       "    <tr>\n",
       "      <th>1</th>\n",
       "      <td>178</td>\n",
       "      <td>44</td>\n",
       "      <td>227</td>\n",
       "      <td>176</td>\n",
       "      <td>39</td>\n",
       "      <td>0</td>\n",
       "      <td>0</td>\n",
       "      <td>20</td>\n",
       "      <td>22317</td>\n",
       "      <td>444</td>\n",
       "      <td>182</td>\n",
       "    </tr>\n",
       "    <tr>\n",
       "      <th>2</th>\n",
       "      <td>78</td>\n",
       "      <td>24</td>\n",
       "      <td>99</td>\n",
       "      <td>69</td>\n",
       "      <td>22</td>\n",
       "      <td>0</td>\n",
       "      <td>0</td>\n",
       "      <td>6</td>\n",
       "      <td>9595</td>\n",
       "      <td>189</td>\n",
       "      <td>57</td>\n",
       "    </tr>\n",
       "    <tr>\n",
       "      <th>3</th>\n",
       "      <td>5</td>\n",
       "      <td>0</td>\n",
       "      <td>3</td>\n",
       "      <td>5</td>\n",
       "      <td>3</td>\n",
       "      <td>0</td>\n",
       "      <td>0</td>\n",
       "      <td>1</td>\n",
       "      <td>915</td>\n",
       "      <td>13</td>\n",
       "      <td>6</td>\n",
       "    </tr>\n",
       "  </tbody>\n",
       "</table>\n",
       "</div>"
      ],
      "text/plain": [
       "                      vegetarian  vegan  glutenFree  dairyFree  veryHealthy  \\\n",
       "pred_by_instructions                                                          \n",
       "0                             42      7          43         28           13   \n",
       "1                            178     44         227        176           39   \n",
       "2                             78     24          99         69           22   \n",
       "3                              5      0           3          5            3   \n",
       "\n",
       "                      cheap  sustainable  lowFodmap  readyInMinutes  count  \\\n",
       "pred_by_instructions                                                         \n",
       "0                         0            0          4            6115    115   \n",
       "1                         0            0         20           22317    444   \n",
       "2                         0            0          6            9595    189   \n",
       "3                         0            0          1             915     13   \n",
       "\n",
       "                      pred_by_summary  \n",
       "pred_by_instructions                   \n",
       "0                                  46  \n",
       "1                                 182  \n",
       "2                                  57  \n",
       "3                                   6  "
      ]
     },
     "execution_count": 22,
     "metadata": {},
     "output_type": "execute_result"
    }
   ],
   "source": [
    "df.groupby(by='pred_by_instructions').sum()"
   ]
  },
  {
   "cell_type": "markdown",
   "id": "074998a6-a86f-4696-af02-2aa26d2d3ad4",
   "metadata": {},
   "source": [
    "---\n",
    "### Model using summary and instructions"
   ]
  },
  {
   "cell_type": "code",
   "execution_count": 34,
   "id": "c8123b89-5d14-4f5a-a68f-70a43430ad97",
   "metadata": {},
   "outputs": [],
   "source": [
    "com_df = df['summary'] + df['instructions'].fillna('')"
   ]
  },
  {
   "cell_type": "code",
   "execution_count": 35,
   "id": "23c8b517-325c-457e-8ea0-db2f54702f64",
   "metadata": {},
   "outputs": [
    {
     "data": {
      "text/plain": [
       "0      Gingerbread Mummies might be just the dessert ...\n",
       "1      Neiman Marcus Oatmeal Chocolate Chip Cookies m...\n",
       "2      Strawberry Tart takes about <b>approximately 4...\n",
       "3      Vegan Strawberry Shortcake served with Vegan W...\n",
       "4      Need a <b>lacto ovo vegetarian dessert</b>? Au...\n",
       "                             ...                        \n",
       "756    Lime S’more Tartlets might be just the hor d'o...\n",
       "757    Beef Cottage Pie is a <b>gluten free</b> recip...\n",
       "758    Easy Chicken Cordon Bleu takes about <b>around...\n",
       "759    The recipe Hummus and Za'atar is ready <b>in a...\n",
       "760    Dulce De Leche Crème Brûlée is a <b>gluten fre...\n",
       "Length: 761, dtype: object"
      ]
     },
     "execution_count": 35,
     "metadata": {},
     "output_type": "execute_result"
    }
   ],
   "source": [
    "com_df"
   ]
  },
  {
   "cell_type": "code",
   "execution_count": 36,
   "id": "3bc90058-4c7d-4459-9a4e-0f7970e08095",
   "metadata": {},
   "outputs": [
    {
     "data": {
      "text/plain": [
       "str"
      ]
     },
     "execution_count": 36,
     "metadata": {},
     "output_type": "execute_result"
    }
   ],
   "source": [
    "type(com_df.iloc[0])"
   ]
  },
  {
   "cell_type": "code",
   "execution_count": 37,
   "id": "1c1e8524-3c26-44ff-8359-54254ff187a6",
   "metadata": {},
   "outputs": [],
   "source": [
    "cv = CountVectorizer()\n",
    "cv.fit(com_df)\n",
    "X = cv.transform(com_df)"
   ]
  },
  {
   "cell_type": "code",
   "execution_count": 38,
   "id": "b72a7143-da06-44b4-bcbf-2c512dbaef6e",
   "metadata": {},
   "outputs": [
    {
     "data": {
      "text/plain": [
       "8105"
      ]
     },
     "execution_count": 38,
     "metadata": {},
     "output_type": "execute_result"
    }
   ],
   "source": [
    "len(cv.get_feature_names())"
   ]
  },
  {
   "cell_type": "code",
   "execution_count": 39,
   "id": "1ea2b696-315c-4e96-b570-07b0be73f354",
   "metadata": {},
   "outputs": [
    {
     "data": {
      "text/plain": [
       "KMeans(n_clusters=4, random_state=42)"
      ]
     },
     "execution_count": 39,
     "metadata": {},
     "output_type": "execute_result"
    }
   ],
   "source": [
    "km = KMeans(n_clusters=4, random_state=42)\n",
    "km.fit(X)"
   ]
  },
  {
   "cell_type": "code",
   "execution_count": 40,
   "id": "3d8384ee-51f3-4e51-a68c-7ce688f286b9",
   "metadata": {},
   "outputs": [],
   "source": [
    "preds = km.predict(X)"
   ]
  },
  {
   "cell_type": "code",
   "execution_count": 41,
   "id": "7bbb458a-80ee-489e-92ea-557d87e3d6fb",
   "metadata": {},
   "outputs": [],
   "source": [
    "df['pred_by_summary'] = preds"
   ]
  },
  {
   "cell_type": "code",
   "execution_count": 42,
   "id": "f49d6ba0-3b82-4e4f-a62c-e5f88ca0d64a",
   "metadata": {},
   "outputs": [
    {
     "data": {
      "text/html": [
       "<div>\n",
       "<style scoped>\n",
       "    .dataframe tbody tr th:only-of-type {\n",
       "        vertical-align: middle;\n",
       "    }\n",
       "\n",
       "    .dataframe tbody tr th {\n",
       "        vertical-align: top;\n",
       "    }\n",
       "\n",
       "    .dataframe thead th {\n",
       "        text-align: right;\n",
       "    }\n",
       "</style>\n",
       "<table border=\"1\" class=\"dataframe\">\n",
       "  <thead>\n",
       "    <tr style=\"text-align: right;\">\n",
       "      <th></th>\n",
       "      <th>vegetarian</th>\n",
       "      <th>vegan</th>\n",
       "      <th>glutenFree</th>\n",
       "      <th>dairyFree</th>\n",
       "      <th>veryHealthy</th>\n",
       "      <th>cheap</th>\n",
       "      <th>sustainable</th>\n",
       "      <th>lowFodmap</th>\n",
       "      <th>readyInMinutes</th>\n",
       "      <th>count</th>\n",
       "      <th>pred_by_instructions</th>\n",
       "    </tr>\n",
       "    <tr>\n",
       "      <th>pred_by_summary</th>\n",
       "      <th></th>\n",
       "      <th></th>\n",
       "      <th></th>\n",
       "      <th></th>\n",
       "      <th></th>\n",
       "      <th></th>\n",
       "      <th></th>\n",
       "      <th></th>\n",
       "      <th></th>\n",
       "      <th></th>\n",
       "      <th></th>\n",
       "    </tr>\n",
       "  </thead>\n",
       "  <tbody>\n",
       "    <tr>\n",
       "      <th>0</th>\n",
       "      <td>12</td>\n",
       "      <td>0</td>\n",
       "      <td>9</td>\n",
       "      <td>9</td>\n",
       "      <td>5</td>\n",
       "      <td>0</td>\n",
       "      <td>0</td>\n",
       "      <td>2</td>\n",
       "      <td>1785</td>\n",
       "      <td>32</td>\n",
       "      <td>41</td>\n",
       "    </tr>\n",
       "    <tr>\n",
       "      <th>1</th>\n",
       "      <td>189</td>\n",
       "      <td>54</td>\n",
       "      <td>216</td>\n",
       "      <td>168</td>\n",
       "      <td>35</td>\n",
       "      <td>0</td>\n",
       "      <td>0</td>\n",
       "      <td>21</td>\n",
       "      <td>21330</td>\n",
       "      <td>414</td>\n",
       "      <td>492</td>\n",
       "    </tr>\n",
       "    <tr>\n",
       "      <th>2</th>\n",
       "      <td>38</td>\n",
       "      <td>10</td>\n",
       "      <td>82</td>\n",
       "      <td>55</td>\n",
       "      <td>20</td>\n",
       "      <td>0</td>\n",
       "      <td>0</td>\n",
       "      <td>3</td>\n",
       "      <td>7257</td>\n",
       "      <td>148</td>\n",
       "      <td>174</td>\n",
       "    </tr>\n",
       "    <tr>\n",
       "      <th>3</th>\n",
       "      <td>64</td>\n",
       "      <td>11</td>\n",
       "      <td>65</td>\n",
       "      <td>46</td>\n",
       "      <td>17</td>\n",
       "      <td>0</td>\n",
       "      <td>0</td>\n",
       "      <td>5</td>\n",
       "      <td>8570</td>\n",
       "      <td>167</td>\n",
       "      <td>154</td>\n",
       "    </tr>\n",
       "  </tbody>\n",
       "</table>\n",
       "</div>"
      ],
      "text/plain": [
       "                 vegetarian  vegan  glutenFree  dairyFree  veryHealthy  cheap  \\\n",
       "pred_by_summary                                                                 \n",
       "0                        12      0           9          9            5      0   \n",
       "1                       189     54         216        168           35      0   \n",
       "2                        38     10          82         55           20      0   \n",
       "3                        64     11          65         46           17      0   \n",
       "\n",
       "                 sustainable  lowFodmap  readyInMinutes  count  \\\n",
       "pred_by_summary                                                  \n",
       "0                          0          2            1785     32   \n",
       "1                          0         21           21330    414   \n",
       "2                          0          3            7257    148   \n",
       "3                          0          5            8570    167   \n",
       "\n",
       "                 pred_by_instructions  \n",
       "pred_by_summary                        \n",
       "0                                  41  \n",
       "1                                 492  \n",
       "2                                 174  \n",
       "3                                 154  "
      ]
     },
     "execution_count": 42,
     "metadata": {},
     "output_type": "execute_result"
    }
   ],
   "source": [
    "df.groupby(by='pred_by_summary').sum()"
   ]
  },
  {
   "cell_type": "code",
   "execution_count": null,
   "id": "a519f7c9-9e31-4139-a4a9-0a8dcaebcc1b",
   "metadata": {},
   "outputs": [],
   "source": []
  }
 ],
 "metadata": {
  "kernelspec": {
   "display_name": "Python 3",
   "language": "python",
   "name": "python3"
  },
  "language_info": {
   "codemirror_mode": {
    "name": "ipython",
    "version": 3
   },
   "file_extension": ".py",
   "mimetype": "text/x-python",
   "name": "python",
   "nbconvert_exporter": "python",
   "pygments_lexer": "ipython3",
   "version": "3.8.10"
  }
 },
 "nbformat": 4,
 "nbformat_minor": 5
}
