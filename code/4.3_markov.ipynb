{
 "cells": [
  {
   "cell_type": "markdown",
   "id": "6ad1b14d-fbeb-4d10-9467-f4047a0d82f4",
   "metadata": {},
   "source": [
    "## Markov Chain instruction generation"
   ]
  },
  {
   "cell_type": "markdown",
   "id": "913a2add-1324-410e-b6d7-8f5a58575e93",
   "metadata": {},
   "source": [
    "### Imports"
   ]
  },
  {
   "cell_type": "code",
   "execution_count": 3,
   "id": "7619dbb2-5724-46ff-bef5-21ffe3239adb",
   "metadata": {},
   "outputs": [],
   "source": [
    "import pandas as pd\n",
    "import re\n",
    "import markovify\n",
    "import nltk\n",
    "import spacy"
   ]
  },
  {
   "cell_type": "code",
   "execution_count": 2,
   "id": "cab4fbac-c403-4b71-92db-9ab6decc516c",
   "metadata": {},
   "outputs": [],
   "source": [
    "# !python -m spacy download en"
   ]
  },
  {
   "cell_type": "code",
   "execution_count": 29,
   "id": "593501d6-6963-4016-8061-607f14a4b0e7",
   "metadata": {},
   "outputs": [
    {
     "name": "stdout",
     "output_type": "stream",
     "text": [
      "(761, 17)\n"
     ]
    }
   ],
   "source": [
    "df = pd.read_csv('../data/recipes.csv').drop(columns=['Unnamed: 0'])\n",
    "print(df.shape)"
   ]
  },
  {
   "cell_type": "markdown",
   "id": "2e6101ef-ed90-4c6a-9b2b-b1a26cf98c8c",
   "metadata": {},
   "source": [
    "---\n",
    "### Cleaning for markovify"
   ]
  },
  {
   "cell_type": "code",
   "execution_count": 30,
   "id": "a3607866-3010-47d9-a645-8baa69691fab",
   "metadata": {},
   "outputs": [],
   "source": [
    "# text cleaning function credit: https://towardsdatascience.com/creating-word-embeddings-coding-the-word2vec-algorithm-in-python-using-deep-learning-b337d0ba17a8\n",
    "def clean_text(\n",
    "    string: str, \n",
    "    punctuations=r'''!()-[]{};:'\"\\,<>/?@#$%^&*_~''',\n",
    "    stop_words=['the', 'a', 'and', 'is', 'be', 'will']) -> str:\n",
    "    \"\"\"\n",
    "    A method to clean text \n",
    "    \"\"\"\n",
    "    # Cleaning the urls\n",
    "    string = re.sub(r'https?://\\S+|www\\.\\S+', '', string)\n",
    "\n",
    "    # Cleaning the html elements\n",
    "    string = re.sub(r'<.*?>', '', string)\n",
    "\n",
    "    # Removing the punctuations\n",
    "    for x in string.lower(): \n",
    "        if x in punctuations: \n",
    "            string = string.replace(x, \"\") \n",
    "\n",
    "    # Converting the text to lower\n",
    "    string = string.lower()\n",
    "\n",
    "    # not this time\n",
    "    # Removing stop words\n",
    "    # string = ' '.join([word for word in string.split() if word not in stop_words])\n",
    "\n",
    "    # Cleaning the whitespaces\n",
    "    string = re.sub(r'\\s+', ' ', string).strip()\n",
    "    \n",
    "    # Remove linebreak\n",
    "    string = string.replace('\\r\\n', '')\n",
    "\n",
    "    return string  "
   ]
  },
  {
   "cell_type": "code",
   "execution_count": 31,
   "id": "a7a75713-c1da-4a7b-9007-e338ec2ff20c",
   "metadata": {},
   "outputs": [
    {
     "data": {
      "text/html": [
       "<div>\n",
       "<style scoped>\n",
       "    .dataframe tbody tr th:only-of-type {\n",
       "        vertical-align: middle;\n",
       "    }\n",
       "\n",
       "    .dataframe tbody tr th {\n",
       "        vertical-align: top;\n",
       "    }\n",
       "\n",
       "    .dataframe thead th {\n",
       "        text-align: right;\n",
       "    }\n",
       "</style>\n",
       "<table border=\"1\" class=\"dataframe\">\n",
       "  <thead>\n",
       "    <tr style=\"text-align: right;\">\n",
       "      <th></th>\n",
       "      <th>vegetarian</th>\n",
       "      <th>vegan</th>\n",
       "      <th>glutenFree</th>\n",
       "      <th>dairyFree</th>\n",
       "      <th>veryHealthy</th>\n",
       "      <th>cheap</th>\n",
       "      <th>sustainable</th>\n",
       "      <th>lowFodmap</th>\n",
       "      <th>title</th>\n",
       "      <th>readyInMinutes</th>\n",
       "      <th>summary</th>\n",
       "      <th>cuisines</th>\n",
       "      <th>dishTypes</th>\n",
       "      <th>occasions</th>\n",
       "      <th>instructions</th>\n",
       "      <th>simplifiedIngredients</th>\n",
       "      <th>simplifiedInstructions</th>\n",
       "    </tr>\n",
       "  </thead>\n",
       "  <tbody>\n",
       "    <tr>\n",
       "      <th>0</th>\n",
       "      <td>1</td>\n",
       "      <td>0</td>\n",
       "      <td>0</td>\n",
       "      <td>0</td>\n",
       "      <td>0</td>\n",
       "      <td>0</td>\n",
       "      <td>0</td>\n",
       "      <td>0</td>\n",
       "      <td>Gingerbread Mummies</td>\n",
       "      <td>45</td>\n",
       "      <td>Gingerbread Mummies might be just the dessert ...</td>\n",
       "      <td>[]</td>\n",
       "      <td>['dessert']</td>\n",
       "      <td>['christmas']</td>\n",
       "      <td>In a bowl of an electric mixer, beat the butte...</td>\n",
       "      <td>['unsalted butter', 'wheat flour', 'sugar', 'm...</td>\n",
       "      <td>['In a bowl of an electric mixer, beat the but...</td>\n",
       "    </tr>\n",
       "  </tbody>\n",
       "</table>\n",
       "</div>"
      ],
      "text/plain": [
       "   vegetarian  vegan  glutenFree  dairyFree  veryHealthy  cheap  sustainable  \\\n",
       "0           1      0           0          0            0      0            0   \n",
       "\n",
       "   lowFodmap                title  readyInMinutes  \\\n",
       "0          0  Gingerbread Mummies              45   \n",
       "\n",
       "                                             summary cuisines    dishTypes  \\\n",
       "0  Gingerbread Mummies might be just the dessert ...       []  ['dessert']   \n",
       "\n",
       "       occasions                                       instructions  \\\n",
       "0  ['christmas']  In a bowl of an electric mixer, beat the butte...   \n",
       "\n",
       "                               simplifiedIngredients  \\\n",
       "0  ['unsalted butter', 'wheat flour', 'sugar', 'm...   \n",
       "\n",
       "                              simplifiedInstructions  \n",
       "0  ['In a bowl of an electric mixer, beat the but...  "
      ]
     },
     "execution_count": 31,
     "metadata": {},
     "output_type": "execute_result"
    }
   ],
   "source": [
    "df.head(1)"
   ]
  },
  {
   "cell_type": "code",
   "execution_count": 32,
   "id": "70fcd154-e962-4cfd-8b7a-fbc7c9c89e64",
   "metadata": {},
   "outputs": [],
   "source": [
    "df['instructions'] = [clean_text(str(row)) for row in df['instructions']]"
   ]
  },
  {
   "cell_type": "code",
   "execution_count": 33,
   "id": "12679880-9f82-46ee-ac84-9eef58e10e75",
   "metadata": {},
   "outputs": [
    {
     "data": {
      "text/plain": [
       "0      in a bowl of an electric mixer beat the butter...\n",
       "1      preheat oven to 375 degrees f. in a large bowl...\n",
       "2      preheat oven to 350 degrees f. sift flour onto...\n",
       "3      preheat your oven to 400 degrees f. add the sl...\n",
       "4      beat butter in large bowl in an electric mixer...\n",
       "                             ...                        \n",
       "756    prepare the graham crust preheat the oven to 3...\n",
       "757    preheat oven to 375 degrees. in a large skille...\n",
       "758    preheat oven into 180c. gently pound the chick...\n",
       "759    rinse the chickpeas and soak for 8 hours or ov...\n",
       "760    oven 325f place six ramekins in a water bath. ...\n",
       "Name: instructions, Length: 761, dtype: object"
      ]
     },
     "execution_count": 33,
     "metadata": {},
     "output_type": "execute_result"
    }
   ],
   "source": [
    "df['instructions']"
   ]
  },
  {
   "cell_type": "markdown",
   "id": "ec58dce5-3ca9-49fd-b529-a848086941be",
   "metadata": {},
   "source": [
    "---\n",
    "### Parse"
   ]
  },
  {
   "cell_type": "markdown",
   "id": "1a8b3857-b766-4b0c-84ef-be85c01ba829",
   "metadata": {},
   "source": [
    "Originally going to use [spaCy](https://spacy.io/usage/models), but did it manually above in cleaning instead"
   ]
  },
  {
   "cell_type": "code",
   "execution_count": 34,
   "id": "298c453c-e027-4ee6-bf00-04baf6cf2163",
   "metadata": {},
   "outputs": [],
   "source": [
    "# accuracy\n",
    "# nlp = spacy.load(\"en_core_web_sm\")\n",
    "\n",
    "# efficiency\n",
    "nlp = spacy.load('en_core_web_sm')"
   ]
  },
  {
   "cell_type": "code",
   "execution_count": 51,
   "id": "0bc361f6-9c61-41cb-863e-2b36f6c665b7",
   "metadata": {},
   "outputs": [],
   "source": [
    "recipe_soup = ''\n",
    "for instr in df['instructions']:\n",
    "    recipe_soup += instr\n",
    "# verify: oh it worked\n",
    "# recipe_soup"
   ]
  },
  {
   "cell_type": "markdown",
   "id": "8fde12dc-9b68-40f1-b41e-4eaa33baf2bf",
   "metadata": {},
   "source": [
    "---\n",
    "### Markovify model"
   ]
  },
  {
   "cell_type": "code",
   "execution_count": 56,
   "id": "9c8efd45-6f9a-4a87-a0f3-1aea50b0a526",
   "metadata": {},
   "outputs": [],
   "source": [
    "# 'fit' the markovify model\n",
    "mark = markovify.Text(recipe_soup, state_size=2)"
   ]
  },
  {
   "cell_type": "code",
   "execution_count": 62,
   "id": "3734964e-bffc-4c9b-89b0-f6b7da479c10",
   "metadata": {},
   "outputs": [
    {
     "name": "stdout",
     "output_type": "stream",
     "text": [
      "2. in a warm scone. oh my...scrumptious transfer the cream then place on sheet pan.bake for 1520 seconds just until edges are completely mixed fold in the gelatin and water over the veggies and fruits. put the meat with the mixture is dry and season with salt and pepper. stir. increase the heat stir constantly.serve with pasta or rubbed over toasty bread with a nonstick pan helped me since i am so in love with this chocolate heaven on earth is in course crumbles. you want to shape it into fine r\n"
     ]
    }
   ],
   "source": [
    "print(mark.make_sentence()[0:500])"
   ]
  }
 ],
 "metadata": {
  "kernelspec": {
   "display_name": "Python 3",
   "language": "python",
   "name": "python3"
  },
  "language_info": {
   "codemirror_mode": {
    "name": "ipython",
    "version": 3
   },
   "file_extension": ".py",
   "mimetype": "text/x-python",
   "name": "python",
   "nbconvert_exporter": "python",
   "pygments_lexer": "ipython3",
   "version": "3.8.10"
  }
 },
 "nbformat": 4,
 "nbformat_minor": 5
}
