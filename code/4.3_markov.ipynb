{
 "cells": [
  {
   "cell_type": "markdown",
   "id": "6ad1b14d-fbeb-4d10-9467-f4047a0d82f4",
   "metadata": {},
   "source": [
    "## Markov Chain predictions"
   ]
  },
  {
   "cell_type": "markdown",
   "id": "913a2add-1324-410e-b6d7-8f5a58575e93",
   "metadata": {},
   "source": [
    "### Imports"
   ]
  },
  {
   "cell_type": "code",
   "execution_count": 3,
   "id": "7619dbb2-5724-46ff-bef5-21ffe3239adb",
   "metadata": {},
   "outputs": [],
   "source": [
    "import pandas as pd\n",
    "import re\n",
    "import markovify\n",
    "import nltk\n",
    "import spacy"
   ]
  },
  {
   "cell_type": "code",
   "execution_count": 2,
   "id": "cab4fbac-c403-4b71-92db-9ab6decc516c",
   "metadata": {},
   "outputs": [],
   "source": [
    "# !python -m spacy download en"
   ]
  },
  {
   "cell_type": "code",
   "execution_count": 29,
   "id": "593501d6-6963-4016-8061-607f14a4b0e7",
   "metadata": {},
   "outputs": [
    {
     "name": "stdout",
     "output_type": "stream",
     "text": [
      "(761, 17)\n"
     ]
    }
   ],
   "source": [
    "df = pd.read_csv('../data/recipes.csv').drop(columns=['Unnamed: 0'])\n",
    "print(df.shape)"
   ]
  },
  {
   "cell_type": "markdown",
   "id": "2e6101ef-ed90-4c6a-9b2b-b1a26cf98c8c",
   "metadata": {},
   "source": [
    "---\n",
    "### Cleaning for markovify"
   ]
  },
  {
   "cell_type": "code",
   "execution_count": 30,
   "id": "a3607866-3010-47d9-a645-8baa69691fab",
   "metadata": {},
   "outputs": [],
   "source": [
    "# text cleaning function credit: https://towardsdatascience.com/creating-word-embeddings-coding-the-word2vec-algorithm-in-python-using-deep-learning-b337d0ba17a8\n",
    "def clean_text(\n",
    "    string: str, \n",
    "    punctuations=r'''!()-[]{};:'\"\\,<>/?@#$%^&*_~''',\n",
    "    stop_words=['the', 'a', 'and', 'is', 'be', 'will']) -> str:\n",
    "    \"\"\"\n",
    "    A method to clean text \n",
    "    \"\"\"\n",
    "    # Cleaning the urls\n",
    "    string = re.sub(r'https?://\\S+|www\\.\\S+', '', string)\n",
    "\n",
    "    # Cleaning the html elements\n",
    "    string = re.sub(r'<.*?>', '', string)\n",
    "\n",
    "    # Removing the punctuations\n",
    "    for x in string.lower(): \n",
    "        if x in punctuations: \n",
    "            string = string.replace(x, \"\") \n",
    "\n",
    "    # Converting the text to lower\n",
    "    string = string.lower()\n",
    "\n",
    "    # not this time\n",
    "    # Removing stop words\n",
    "    # string = ' '.join([word for word in string.split() if word not in stop_words])\n",
    "\n",
    "    # Cleaning the whitespaces\n",
    "    string = re.sub(r'\\s+', ' ', string).strip()\n",
    "    \n",
    "    # Remove linebreak\n",
    "    string = string.replace('\\r\\n', '')\n",
    "\n",
    "    return string  "
   ]
  },
  {
   "cell_type": "code",
   "execution_count": 31,
   "id": "a7a75713-c1da-4a7b-9007-e338ec2ff20c",
   "metadata": {},
   "outputs": [
    {
     "data": {
      "text/html": [
       "<div>\n",
       "<style scoped>\n",
       "    .dataframe tbody tr th:only-of-type {\n",
       "        vertical-align: middle;\n",
       "    }\n",
       "\n",
       "    .dataframe tbody tr th {\n",
       "        vertical-align: top;\n",
       "    }\n",
       "\n",
       "    .dataframe thead th {\n",
       "        text-align: right;\n",
       "    }\n",
       "</style>\n",
       "<table border=\"1\" class=\"dataframe\">\n",
       "  <thead>\n",
       "    <tr style=\"text-align: right;\">\n",
       "      <th></th>\n",
       "      <th>vegetarian</th>\n",
       "      <th>vegan</th>\n",
       "      <th>glutenFree</th>\n",
       "      <th>dairyFree</th>\n",
       "      <th>veryHealthy</th>\n",
       "      <th>cheap</th>\n",
       "      <th>sustainable</th>\n",
       "      <th>lowFodmap</th>\n",
       "      <th>title</th>\n",
       "      <th>readyInMinutes</th>\n",
       "      <th>summary</th>\n",
       "      <th>cuisines</th>\n",
       "      <th>dishTypes</th>\n",
       "      <th>occasions</th>\n",
       "      <th>instructions</th>\n",
       "      <th>simplifiedIngredients</th>\n",
       "      <th>simplifiedInstructions</th>\n",
       "    </tr>\n",
       "  </thead>\n",
       "  <tbody>\n",
       "    <tr>\n",
       "      <th>0</th>\n",
       "      <td>1</td>\n",
       "      <td>0</td>\n",
       "      <td>0</td>\n",
       "      <td>0</td>\n",
       "      <td>0</td>\n",
       "      <td>0</td>\n",
       "      <td>0</td>\n",
       "      <td>0</td>\n",
       "      <td>Gingerbread Mummies</td>\n",
       "      <td>45</td>\n",
       "      <td>Gingerbread Mummies might be just the dessert ...</td>\n",
       "      <td>[]</td>\n",
       "      <td>['dessert']</td>\n",
       "      <td>['christmas']</td>\n",
       "      <td>In a bowl of an electric mixer, beat the butte...</td>\n",
       "      <td>['unsalted butter', 'wheat flour', 'sugar', 'm...</td>\n",
       "      <td>['In a bowl of an electric mixer, beat the but...</td>\n",
       "    </tr>\n",
       "  </tbody>\n",
       "</table>\n",
       "</div>"
      ],
      "text/plain": [
       "   vegetarian  vegan  glutenFree  dairyFree  veryHealthy  cheap  sustainable  \\\n",
       "0           1      0           0          0            0      0            0   \n",
       "\n",
       "   lowFodmap                title  readyInMinutes  \\\n",
       "0          0  Gingerbread Mummies              45   \n",
       "\n",
       "                                             summary cuisines    dishTypes  \\\n",
       "0  Gingerbread Mummies might be just the dessert ...       []  ['dessert']   \n",
       "\n",
       "       occasions                                       instructions  \\\n",
       "0  ['christmas']  In a bowl of an electric mixer, beat the butte...   \n",
       "\n",
       "                               simplifiedIngredients  \\\n",
       "0  ['unsalted butter', 'wheat flour', 'sugar', 'm...   \n",
       "\n",
       "                              simplifiedInstructions  \n",
       "0  ['In a bowl of an electric mixer, beat the but...  "
      ]
     },
     "execution_count": 31,
     "metadata": {},
     "output_type": "execute_result"
    }
   ],
   "source": [
    "df.head(1)"
   ]
  },
  {
   "cell_type": "code",
   "execution_count": 32,
   "id": "70fcd154-e962-4cfd-8b7a-fbc7c9c89e64",
   "metadata": {},
   "outputs": [],
   "source": [
    "df['instructions'] = [clean_text(str(row)) for row in df['instructions']]"
   ]
  },
  {
   "cell_type": "code",
   "execution_count": 33,
   "id": "12679880-9f82-46ee-ac84-9eef58e10e75",
   "metadata": {},
   "outputs": [
    {
     "data": {
      "text/plain": [
       "0      in a bowl of an electric mixer beat the butter...\n",
       "1      preheat oven to 375 degrees f. in a large bowl...\n",
       "2      preheat oven to 350 degrees f. sift flour onto...\n",
       "3      preheat your oven to 400 degrees f. add the sl...\n",
       "4      beat butter in large bowl in an electric mixer...\n",
       "                             ...                        \n",
       "756    prepare the graham crust preheat the oven to 3...\n",
       "757    preheat oven to 375 degrees. in a large skille...\n",
       "758    preheat oven into 180c. gently pound the chick...\n",
       "759    rinse the chickpeas and soak for 8 hours or ov...\n",
       "760    oven 325f place six ramekins in a water bath. ...\n",
       "Name: instructions, Length: 761, dtype: object"
      ]
     },
     "execution_count": 33,
     "metadata": {},
     "output_type": "execute_result"
    }
   ],
   "source": [
    "df['instructions']"
   ]
  },
  {
   "cell_type": "markdown",
   "id": "ec58dce5-3ca9-49fd-b529-a848086941be",
   "metadata": {},
   "source": [
    "---\n",
    "### Parse"
   ]
  },
  {
   "cell_type": "markdown",
   "id": "1a8b3857-b766-4b0c-84ef-be85c01ba829",
   "metadata": {},
   "source": [
    "Originally going to use [spaCy](https://spacy.io/usage/models), but did it manually above in cleaning instead"
   ]
  },
  {
   "cell_type": "code",
   "execution_count": 34,
   "id": "298c453c-e027-4ee6-bf00-04baf6cf2163",
   "metadata": {},
   "outputs": [],
   "source": [
    "# accuracy\n",
    "# nlp = spacy.load(\"en_core_web_sm\")\n",
    "\n",
    "# efficiency\n",
    "nlp = spacy.load('en_core_web_sm')"
   ]
  },
  {
   "cell_type": "code",
   "execution_count": 51,
   "id": "0bc361f6-9c61-41cb-863e-2b36f6c665b7",
   "metadata": {},
   "outputs": [],
   "source": [
    "recipe_soup = ''\n",
    "for instr in df['instructions']:\n",
    "    recipe_soup += instr\n",
    "# verify: oh it worked\n",
    "# recipe_soup"
   ]
  },
  {
   "cell_type": "markdown",
   "id": "8fde12dc-9b68-40f1-b41e-4eaa33baf2bf",
   "metadata": {},
   "source": [
    "---\n",
    "### Markovify model"
   ]
  },
  {
   "cell_type": "code",
   "execution_count": 52,
   "id": "9c8efd45-6f9a-4a87-a0f3-1aea50b0a526",
   "metadata": {},
   "outputs": [],
   "source": [
    "# 'fit' the markovify model\n",
    "mark = markovify.Text(recipe_soup, state_size=2)"
   ]
  },
  {
   "cell_type": "code",
   "execution_count": 53,
   "id": "3734964e-bffc-4c9b-89b0-f6b7da479c10",
   "metadata": {},
   "outputs": [
    {
     "name": "stdout",
     "output_type": "stream",
     "text": [
      "3. in a heavy 10 ovenproof skillet. melt butter and sugars. slowly add 1 teaspoon salt and pepper.dip the chicken into the prepared cookie sheets spacing them a light coat of glaze on the baking dish microwaved so it does i am visiting her right now. remove the chicken and set aside.for the bchamel sauce add 14 c.of batter to cling to the tomato sauce and assemble slidersadd drained meatballs to tomato sauce parmesan cheese ketchup brown sugar flour almond flour cornstarch baking powder sugar and salt cook through. season and serve.crepeswhisk the eggs.add the wet ingredients into a large stockpot and add bitters and grenadine.use one of the saucepan. cook over medium heat. add the garlic in a separate bowl set aside. empty enchilada sauce mushroom soup and mix well and pour in your spinach.let the spinach and artichoke hearts.pour in large pot heat olive oil. pour bruschetta mixture in and combine wheat and corn flour salt and whirl for 5 minutes.stir in two cups flour cover with foil. while rolling out and discard bay leaf.make meatballs while sauce simmersstir together bread crumbs and the melted honey sugar and continue to cook the onion sugar and flour. then add in your already cooked tuwo rice the coconut milk and mix in the preheated oven. bake for approx 18 minutes or until your cheese is bubbling. broil for 5 minutes or until biscuits are golden brown. if you find the sweet potato mash.place the skillet with the remaining ingredients with the soft white peaks are formed.at this point so they dont get mushy.in large pan for about 10 minutes before serving.take salsa bowl add the butter and sour cream into the bottom of each turnover and sprinkle on some cumin chile powder and salt then strain to make your desserts look too neat. theyre meant to be able to easly crush a piece of chicken.in a large pot over high heat and stir constantly with a little and add ginger and cut into squares and serveplace all chimichurri sauce ingredients simmer for another 5 minutes until a toothpick comes out clean. icing add the basil sprig and the tomatoes with your whole wheat crust and sprinkle extra sugar if you are not going to add your vegetables stir and cook until well incorporated it will take a bit more almond or hemp milk if the mixture should have about 2 12 cups. place puree in a single layer in the rice.mash the rice is al dente softened but not browned. add the chicken to be a lot of batter into the cavity. mix breadcrumbs and butter until pebbly and then put in a preheated 350 f 185 c for 70 minutes or until reduced by half. add the onion sugar and vanilla extract. bring the soup in small saut pan melt the butter and stir with a towel or plastic wrap and place on low heat for 20 minutes. strain and chill.heat up your oil cut your white frosting. spread a thin layer of mascarpone creamegg mixture and run until gingersnaps are crumbly. press mixture firmly into a bowl and the remaining eggs whites fold in the baking dish. add a little bit. if you do not curdle. once all of the walnut kernel at the edges are higher then the egg yolks. set aside.thinly coat with remaining cherry glaze. whip cream sprinkle with the chopped onions carrots and salt and fresh basil.preheat oven to 350 degrees f for 60 to 70 minutes. the dumpling centers will turn brown. once it is ok to peek underneath. if you have finished with boiling and remove from oven let cool on cookie sheets and press to adhere where necessary. place the other ingredients.toss the cookie out of apple slices discarding smallest circle containing core.heat oil to early if the steak on a floured surface and use a rolling pin flatten out the chicken in an oven rack. place scallops on top. continue in the pan cook until tender about 3 minutes at 200c. remove the goodies from the pot with an egg on a cookie tray to cooling rack and cool to room temperature before grilling. remove ribs from the water pan place the pork mixture. combine all ingredients in the cream cheese mixture tucking the ends together make a very sharp knife through layers to make sure that the yolks and sugar in a mixing bowl. place cream cheese mixture lengthwise down center third of the mixture should resemble a thick paste. do not overbeat because it will be falling off the stove and allow them to the cream remove the excess outer fat leaving some for the scallops flatside down in skillet. cook turning once until golden 3 to 4 minutes. take off the bottom of the cheeses. repeat layers. sprinkle parsley over before serving.separate the noodles will get mushy. after frying for a truffle went straight into my mouth. if you have ever had the pleasure of tasting. just to clarify i am never bothered by a couple of times to prevent curling while chops are cooking. preheat a nonstick spray evenly in the preheated oven. bake for 3 mini loafs.bake for 50 minutes if using a small bowl add the chopped vegetables into the center and top with a spatula sprayed with some watercress then the blue one with the shrimp over medium high heat. cut the red pepper flakes cook and stir to combine. add remaining whipping cream in the chopped parsley.blend cornflour and water until mixed well. turn heat to a clean plate and set aside. drop a good twenty minutes.while your dough but not darkened or it will harden in the bourbon. using a dutch oven bring to a boil then reduce to low. add in the boiling water then wipe dry.preheat the oven and allow to cool down then add in tomato paste black beans on the breadcrumbs with thyme kosher salt pepper seasoning and pour in the same pan add sugar water and then remove. place onto a floured sausage piece into a large bowl add the sage set aside to cool the mixture evenly over the agave nectar and salt to the bowl of stand mixer mix until smooth. pour in your stew meat potatoes onions carrots thyme and bring to a freezerfriendly container or bag. pour marinade over pork chops rest 58 minutes before serving.preheat your oven to 400 degrees f.cut the top with chopped peanuts and chocolate until chocolate is melted and browned chicken pieces and cook over a grill heated to 350 degrees. line a baking tray with water and start assembling. using your hand into the pie crusts stand at room temperature for a couple of inches. bring to a boil in a sauce consistency now. you can leave the small bowl combine the graham crust preheat the oven and brush over the top. add a few hours until the mixture into a blender or food processor. pulse until the sugar is dissolved. brush on ribs and any juices that collected in the surface evenly.cook the crepe as thin as you can leave the cups of water. batter will be sharing all things healthy.if you are making this today then make sure to dab off the leaves to extract the flavors. fill the pie crust first. in a medium bowl lightly beaten. ladle some of my favorite recipes to use with lime. you dont have one use a cake tester comes out clean.in a large bowl. place empty shells on 2 serving plates. spoon a healthy serving of chickpea mixture onto a floured surface and punch the dough out of the sugar flour corn starch and baking soda. blend in egg then add to bowl with cold water covered by a last drizzle of oil over medium heat melt the butter and the cream cheese for flavor. season the chicken is browned and cooked through.arrange stackscombine garlic and saut stirring 1 minute. add the chicken broth water and stir. grate cheese and sprinkle with the mango into inch long 10 inch bundt pan. combine the eggs with the remaining oil salt pepper and pulse until walnuts and put in the center of the stick above the rim of the berries pops open about 5 minutes or until biscuits are puffed and beginning to get foamy. add remaining olive oil and toss well to coat the bottom of your additional ingredients cooked ground beef to a spatula until combined.step 9 roughly spread the top of the pot and place in the oven to 350.take your 2 grilled chicken breasts in to 15 minutes and then put in refrigerator and smooth out to about 10 seconds or until the broccoli and butter together in shallow pan.with sharp knife slice the onion dipping sauce.bring a large mixing bowl and microwave for about 30 to 35 minutes until pale then add the beef bourguignon onto a plate. spread with the melted chocolate do not brown the lean ground beef. saute the onion powder garlic powder onion powder garlic powder and salt. set aside.with a tiny bit less time and mix well before adding in stock 12 ladles at a time. add the potatoes parsnips and carrots and continue to add milk 1 teaspoon at a time beating after each addition. stir in cilantro.serve these clams with some peanut butter filling just use peanut butter powdered sugar before serving.in large bowl and turn face down on the lower edge of the spatula. strain the mixture into the melted butter in a very sharp knife around the edge.arrange the fruit on top of the simple fit dinners ebook.dont wait you wont want to shape it into pieces to it the milk salt and pepper to taste. beat the egg white tail when removed.scoop the mixture is well incorporated. increase the speed to low. add in your wine. stir until combined. place 1 won ton wrapper in the carrots are lightly covered. transfer to a simmer. cover and allow to drain and rinse well. drain the beans thoroughly and fill cavity with peanut butter powdered sugar vanilla milk and eggs.pour the flour eggnog and eggs together in a large mixing bowl combine flour baking powder oats flour and cornstarch beating well.add eggs and melted butter. repeat with the rest of the remaining 1 12 teaspoon pepper and set aside for a short return to the egg whites and cream of mushroom soup and milk. mix until wellblended. gradually add the one we like the balance of flavour and adjust espresso and chai spice mix. taste and mash in cultured dairy butter olive oil. when the butter mixture. stir in as well. if you have a supplement facts box on the peppers.6. serve with the back of a stand mixer fitted with a longhandled wooden spoon or a minipan. grease lightly if not use a fork in a food processor puree kidney beans and tomatoes to the cream and chopped jalapeno in a 12inch skillet over medium heat add the marinade liquid and it gets kind of softtake outadd cold water in small quantities with hands. mix and stir until the onions and stir until well combined. salt and pepper.spoon off any excess egg to drip off. repeat with remaining bread crumbs and insert a clean tea towel. let them cool for at least 3 hours remove from the foil away from the refrigerator for 1 hour at 350we like to line the bottoms need to do this in batches. pancakes should be browned.serve on plates and repeat for the strawberries.place a bit of flour 12 cup blueberriesplace 14cup batter onto skillet and use your hands sounds rather messy to me. i probably wouldnt use a small amount of mixture shaping it into fine crumbs. cream butter and both sugars then add the lemon bowls. place on parchment paper on a baking sheet and chill for at least 30 minutes transfer to a thickness of inch. using cookie cutter and then top each tomato with a hand mixer wooden spoon about 1015 minutes.season with salt pepper give it a swirl or two before tossing in the oven to 350 in a double boiler or in large skillet with paper towels. if necessary with additional graham crackers into a medium bowl beat the butter oil and canola oil rubbing all sides absorb the marinade.when beer is half empty refill can with salad dressing add your whipped cream on top melt the butter and cook for 810 minutes until smooth and creamy.cup pine nuts 2 tablespoons of cornmeal over the steak to desired consistency.serve warm. store in a large pan with nonstick spray. scoop about 1 minute. cool and stir with a fork and keep warm. repeat with another skewer. carefully place two inches apart on baking sheet. brush each cranberry skewer with karo syrup and 14 teaspoon of sugar.set aside and cool. beat the sugar and vanilla extract and milk. cook the other side. prepare a mini muffin pans with cooking spray. combine granulated sugar on medium until lightly browned. serve warm or cold with yogurt or milk.wash the chicken breast into 14 cubes and leave to cool. in a small saucepan add the egg whites. sprinkle with 2 tablespoon of fresh cilantro.serve immediately with an immersion blender puree the soup immediately garnished with the remaining cheese.bake in the center. add the peas and soak for 6 to 8 hours changing the water for at least two hours before serving. serving take it out of the spatula. strain the mixture back into the 22cm springform cake tin lined with parchment paper and set aside. cut cylinders into 14 inches slicestoast breadspread a thin layer of frosting with a sheet of parchment paper or a stand mixer with a rubber spatula follow by the rest of the pan the thicker the bars in half and transfer to a skillet over mediumhigh heat. sprinkle pork chops in a small skillet sweat the onions in butter and 4 tablespoons chicken fat leave some skin on for a few minutes it can be made ahead. store in the bourbon. using a teaspoon or more to brown about 56 minutes.allow the puff pie lid and cook for another 5 minutes or until they are covered on all sides. allow any excess batter to prepared pan spreading it out into a 9 by 13 baking dish in which you have it well so that the oil sugar and butter in a 13 x 9 inch pie tray. place pie tray at the end so theres a little nutmeg and lemon colored. then add in some salt and pepper and serve.first blanch the raw meat into rib sections. if you use up all the spices including the ginger. set aside. melt butter and brown sugar. lay ribs flat in a wok this pan is preferred but not falling apart. drain and cool slightly. serve with your seasoning curry thyme parsley salt and pepper. place the pastry for upper side off the tasty filling. grab your small saucepan bring the cream of tartar. with an electric crêpe maker.add onions and fry. pour in the middle of the oven to 375 degrees. roll dough again until reaching opposite end. pinch together and do 12 or bake 12 at a time then stir in the carrots are lightly caramelized and the result was moist and juicy but not disintegrating. remove the casings lightly slice each sausage lengthwise. peel off the lid.\n"
     ]
    }
   ],
   "source": [
    "print(mark.make_sentence())"
   ]
  },
  {
   "cell_type": "markdown",
   "id": "88fec5b3-d714-402a-8a5b-77b1a875b7bc",
   "metadata": {},
   "source": []
  },
  {
   "cell_type": "code",
   "execution_count": null,
   "id": "bfbaa83b-c776-48db-a088-0c26dc0fc49c",
   "metadata": {},
   "outputs": [],
   "source": []
  },
  {
   "cell_type": "code",
   "execution_count": null,
   "id": "f63842f1-b110-44f2-8567-eba025b020e4",
   "metadata": {},
   "outputs": [],
   "source": []
  },
  {
   "cell_type": "code",
   "execution_count": null,
   "id": "064cd7d3-5f67-490f-8791-748948815cb1",
   "metadata": {},
   "outputs": [],
   "source": []
  },
  {
   "cell_type": "code",
   "execution_count": null,
   "id": "95c017d3-d7ab-4242-a0ae-a79e46e985bf",
   "metadata": {},
   "outputs": [],
   "source": []
  },
  {
   "cell_type": "code",
   "execution_count": null,
   "id": "adf11370-6e8e-4c0d-befd-1b4a00605f5f",
   "metadata": {},
   "outputs": [],
   "source": []
  }
 ],
 "metadata": {
  "kernelspec": {
   "display_name": "Python 3",
   "language": "python",
   "name": "python3"
  },
  "language_info": {
   "codemirror_mode": {
    "name": "ipython",
    "version": 3
   },
   "file_extension": ".py",
   "mimetype": "text/x-python",
   "name": "python",
   "nbconvert_exporter": "python",
   "pygments_lexer": "ipython3",
   "version": "3.8.10"
  }
 },
 "nbformat": 4,
 "nbformat_minor": 5
}
