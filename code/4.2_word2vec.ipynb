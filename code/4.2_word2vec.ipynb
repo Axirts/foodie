{
 "cells": [
  {
   "cell_type": "markdown",
   "id": "71d062df-7758-4a3a-b839-08f702e50bc6",
   "metadata": {},
   "source": [
    "## Word2Vec associations"
   ]
  },
  {
   "cell_type": "markdown",
   "id": "e24fb516-6f94-4a3d-a3e7-847508d64305",
   "metadata": {},
   "source": [
    "### Imports"
   ]
  },
  {
   "cell_type": "code",
   "execution_count": 1,
   "id": "f44c6b74",
   "metadata": {},
   "outputs": [],
   "source": [
    "import re\n",
    "import pandas as pd\n",
    "import seaborn as sns\n",
    "import matplotlib.pyplot as plt\n",
    "\n",
    "import gensim\n",
    "import gensim.downloader as api\n",
    "from gensim.models.word2vec import Word2Vec\n",
    "\n",
    "from transformers import BertTokenizer, BertModel, pipeline"
   ]
  },
  {
   "cell_type": "code",
   "execution_count": 2,
   "id": "73f997eb-73b2-49bb-9559-a7bfc2ebbacf",
   "metadata": {},
   "outputs": [
    {
     "name": "stdout",
     "output_type": "stream",
     "text": [
      "(761, 17)\n"
     ]
    }
   ],
   "source": [
    "df = pd.read_csv('../data/recipes.csv').drop(columns=['Unnamed: 0'])\n",
    "print(df.shape)"
   ]
  },
  {
   "cell_type": "markdown",
   "id": "a6e1fdf2-d56a-4105-b90e-7443fcbcc12f",
   "metadata": {},
   "source": [
    "---\n",
    "### Cleaning for word2vec"
   ]
  },
  {
   "cell_type": "code",
   "execution_count": 3,
   "id": "10bdfda2-9eca-4d18-aa3c-3592c315fb75",
   "metadata": {},
   "outputs": [],
   "source": [
    "# text cleaning function credit: https://towardsdatascience.com/creating-word-embeddings-coding-the-word2vec-algorithm-in-python-using-deep-learning-b337d0ba17a8\n",
    "def clean_text(\n",
    "    string: str, \n",
    "    punctuations=r'''!()-[]{};:'\"\\,<>./?@#$%^&*_~''',\n",
    "    stop_words=['the', 'a', 'and', 'is', 'be', 'will']) -> str:\n",
    "    \"\"\"\n",
    "    A method to clean text \n",
    "    \"\"\"\n",
    "    # Cleaning the urls\n",
    "    string = re.sub(r'https?://\\S+|www\\.\\S+', '', string)\n",
    "\n",
    "    # Cleaning the html elements\n",
    "    string = re.sub(r'<.*?>', '', string)\n",
    "\n",
    "    # Removing the punctuations\n",
    "    for x in string.lower(): \n",
    "        if x in punctuations: \n",
    "            string = string.replace(x, \"\") \n",
    "\n",
    "    # Converting the text to lower\n",
    "    string = string.lower()\n",
    "\n",
    "    # Removing stop words\n",
    "    string = ' '.join([word for word in string.split() if word not in stop_words])\n",
    "\n",
    "    # Cleaning the whitespaces\n",
    "    string = re.sub(r'\\s+', ' ', string).strip()\n",
    "    \n",
    "    # Remove linebreak\n",
    "    string = string.replace('\\r\\n', '')\n",
    "\n",
    "    return string  "
   ]
  },
  {
   "cell_type": "code",
   "execution_count": 4,
   "id": "a77f28c3-b467-4f07-943d-9fe458ce6608",
   "metadata": {},
   "outputs": [
    {
     "data": {
      "text/html": [
       "<div>\n",
       "<style scoped>\n",
       "    .dataframe tbody tr th:only-of-type {\n",
       "        vertical-align: middle;\n",
       "    }\n",
       "\n",
       "    .dataframe tbody tr th {\n",
       "        vertical-align: top;\n",
       "    }\n",
       "\n",
       "    .dataframe thead th {\n",
       "        text-align: right;\n",
       "    }\n",
       "</style>\n",
       "<table border=\"1\" class=\"dataframe\">\n",
       "  <thead>\n",
       "    <tr style=\"text-align: right;\">\n",
       "      <th></th>\n",
       "      <th>vegetarian</th>\n",
       "      <th>vegan</th>\n",
       "      <th>glutenFree</th>\n",
       "      <th>dairyFree</th>\n",
       "      <th>veryHealthy</th>\n",
       "      <th>cheap</th>\n",
       "      <th>sustainable</th>\n",
       "      <th>lowFodmap</th>\n",
       "      <th>title</th>\n",
       "      <th>readyInMinutes</th>\n",
       "      <th>summary</th>\n",
       "      <th>cuisines</th>\n",
       "      <th>dishTypes</th>\n",
       "      <th>occasions</th>\n",
       "      <th>instructions</th>\n",
       "      <th>simplifiedIngredients</th>\n",
       "      <th>simplifiedInstructions</th>\n",
       "    </tr>\n",
       "  </thead>\n",
       "  <tbody>\n",
       "    <tr>\n",
       "      <th>0</th>\n",
       "      <td>1</td>\n",
       "      <td>0</td>\n",
       "      <td>0</td>\n",
       "      <td>0</td>\n",
       "      <td>0</td>\n",
       "      <td>0</td>\n",
       "      <td>0</td>\n",
       "      <td>0</td>\n",
       "      <td>Gingerbread Mummies</td>\n",
       "      <td>45</td>\n",
       "      <td>Gingerbread Mummies might be just the dessert ...</td>\n",
       "      <td>[]</td>\n",
       "      <td>['dessert']</td>\n",
       "      <td>['christmas']</td>\n",
       "      <td>In a bowl of an electric mixer, beat the butte...</td>\n",
       "      <td>['unsalted butter', 'wheat flour', 'sugar', 'm...</td>\n",
       "      <td>['In a bowl of an electric mixer, beat the but...</td>\n",
       "    </tr>\n",
       "  </tbody>\n",
       "</table>\n",
       "</div>"
      ],
      "text/plain": [
       "   vegetarian  vegan  glutenFree  dairyFree  veryHealthy  cheap  sustainable  \\\n",
       "0           1      0           0          0            0      0            0   \n",
       "\n",
       "   lowFodmap                title  readyInMinutes  \\\n",
       "0          0  Gingerbread Mummies              45   \n",
       "\n",
       "                                             summary cuisines    dishTypes  \\\n",
       "0  Gingerbread Mummies might be just the dessert ...       []  ['dessert']   \n",
       "\n",
       "       occasions                                       instructions  \\\n",
       "0  ['christmas']  In a bowl of an electric mixer, beat the butte...   \n",
       "\n",
       "                               simplifiedIngredients  \\\n",
       "0  ['unsalted butter', 'wheat flour', 'sugar', 'm...   \n",
       "\n",
       "                              simplifiedInstructions  \n",
       "0  ['In a bowl of an electric mixer, beat the but...  "
      ]
     },
     "execution_count": 4,
     "metadata": {},
     "output_type": "execute_result"
    }
   ],
   "source": [
    "df.head(1)"
   ]
  },
  {
   "cell_type": "code",
   "execution_count": 5,
   "id": "ef57798e-39e3-43a7-8ab6-cf4e8d7363e7",
   "metadata": {
    "tags": []
   },
   "outputs": [],
   "source": [
    "df['instructions'] = [clean_text(str(row)) for row in df['instructions']]"
   ]
  },
  {
   "cell_type": "code",
   "execution_count": 6,
   "id": "d634be2d-bbec-46d1-9f5f-bb82688f7f44",
   "metadata": {},
   "outputs": [
    {
     "data": {
      "text/plain": [
       "0      in bowl of an electric mixer beat butter until...\n",
       "1      preheat oven to 375 degrees f in large bowl cr...\n",
       "2      preheat oven to 350 degrees f sift flour onto ...\n",
       "3      preheat your oven to 400 degrees f add sliced ...\n",
       "4      beat butter in large bowl in an electric mixer...\n",
       "                             ...                        \n",
       "756    prepare graham crust preheat oven to 350put gr...\n",
       "757    preheat oven to 375 degrees in large skillet h...\n",
       "758    preheat oven into 180c gently pound chicken br...\n",
       "759    rinse chickpeas soak for 8 hours or overnight ...\n",
       "760    oven 325f place six ramekins in water bath whi...\n",
       "Name: instructions, Length: 761, dtype: object"
      ]
     },
     "execution_count": 6,
     "metadata": {},
     "output_type": "execute_result"
    }
   ],
   "source": [
    "df['instructions']"
   ]
  },
  {
   "cell_type": "markdown",
   "id": "2ac0dfc0-4c16-4dbd-bb10-fe723aa81d35",
   "metadata": {},
   "source": [
    "---\n",
    "## Word2Vec implementation"
   ]
  },
  {
   "cell_type": "code",
   "execution_count": 9,
   "id": "31cb5cc9-2fd4-4198-8842-c10720cdfef6",
   "metadata": {},
   "outputs": [],
   "source": [
    "corpus = [each.split() for each in df['instructions']]"
   ]
  },
  {
   "cell_type": "code",
   "execution_count": 10,
   "id": "9df15310-6ae8-42f7-a041-95b41c27bdcf",
   "metadata": {},
   "outputs": [],
   "source": [
    "model = Word2Vec(corpus)"
   ]
  },
  {
   "cell_type": "code",
   "execution_count": 13,
   "id": "ddacef08-9256-4500-8055-67947d0fadee",
   "metadata": {
    "scrolled": true,
    "tags": []
   },
   "outputs": [
    {
     "data": {
      "text/plain": [
       "1555"
      ]
     },
     "execution_count": 13,
     "metadata": {},
     "output_type": "execute_result"
    }
   ],
   "source": [
    "len(model.wv.index_to_key)"
   ]
  },
  {
   "cell_type": "code",
   "execution_count": 12,
   "id": "6ba21c6e-ef95-497d-90d9-1905199ed842",
   "metadata": {},
   "outputs": [
    {
     "data": {
      "text/plain": [
       "array([ 0.02467003,  0.462431  ,  0.10952619, -0.36950684,  0.34555918,\n",
       "       -0.39694858,  1.1344974 ,  0.51036364, -0.10377292, -0.24977541,\n",
       "       -0.17449935, -0.7031323 ,  0.08217197, -0.56424326, -0.03330697,\n",
       "       -0.16310018,  0.31470796, -0.260275  ,  0.3495805 , -0.42015603,\n",
       "        0.22069149,  0.17347388,  0.25684553, -0.3124601 , -0.15932514,\n",
       "        0.13784407, -0.64135724, -0.50323886, -0.12363603,  0.06647342,\n",
       "        0.19679967,  0.19766821, -0.04574329, -0.13459839, -0.1052858 ,\n",
       "        0.71360207,  0.12434079,  0.2325738 , -0.3467441 , -0.58889306,\n",
       "        0.44267848, -0.43534586,  0.49761763, -0.18026364,  0.02424771,\n",
       "       -0.08096733,  0.4785746 , -0.16669126,  0.16718604,  0.48217794,\n",
       "        0.13288143, -0.5692791 ,  0.1732835 , -0.28098738, -0.03097262,\n",
       "        0.25640464,  0.50001127,  0.4058189 , -0.16080895,  0.07115072,\n",
       "        0.43439737, -0.33678323,  0.28753754,  0.01711828, -0.51507086,\n",
       "        0.52001256, -0.06585953,  0.14276914, -0.13062638,  0.2832853 ,\n",
       "       -0.5174944 ,  0.42751202,  1.184989  ,  0.16864438,  0.935416  ,\n",
       "        0.23480378, -0.22390382, -0.3667368 ,  0.03568882,  0.4056126 ,\n",
       "        0.35753086, -0.09486624, -0.3911111 ,  0.30760616,  0.17104927,\n",
       "       -0.35398325,  0.45467266,  0.3422146 ,  0.4491842 ,  0.02311362,\n",
       "        0.41153654,  0.5662206 ,  0.26854867,  0.08513959,  0.47096658,\n",
       "        0.09178254,  0.3199573 ,  0.06191423, -0.3245092 , -0.22812521],\n",
       "      dtype=float32)"
      ]
     },
     "execution_count": 12,
     "metadata": {},
     "output_type": "execute_result"
    }
   ],
   "source": [
    "model.wv.get_vector('flour')"
   ]
  },
  {
   "cell_type": "code",
   "execution_count": null,
   "id": "394bcf31-21d1-4ad4-bb58-310b8b7f4d4a",
   "metadata": {},
   "outputs": [],
   "source": []
  }
 ],
 "metadata": {
  "kernelspec": {
   "display_name": "Python 3",
   "language": "python",
   "name": "python3"
  },
  "language_info": {
   "codemirror_mode": {
    "name": "ipython",
    "version": 3
   },
   "file_extension": ".py",
   "mimetype": "text/x-python",
   "name": "python",
   "nbconvert_exporter": "python",
   "pygments_lexer": "ipython3",
   "version": "3.8.10"
  }
 },
 "nbformat": 4,
 "nbformat_minor": 5
}
